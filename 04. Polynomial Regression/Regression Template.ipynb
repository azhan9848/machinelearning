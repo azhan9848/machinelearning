{
 "cells": [
  {
   "cell_type": "markdown",
   "id": "b305494e-bf15-4ecc-bbe3-3bbd40593a48",
   "metadata": {},
   "source": [
    "# Regression Template"
   ]
  },
  {
   "cell_type": "code",
   "execution_count": null,
   "id": "c37e7796-e287-4940-8d6d-897fef39955a",
   "metadata": {},
   "outputs": [],
   "source": [
    "import numpy as np\n",
    "import matplotlib.pyplot as plt\n",
    "import pandas as pd\n",
    "#Enter file name in parameter\n",
    "dataset = pd.read_csv(\"\")\n",
    "\n",
    "#Change the indexes\n",
    "X = dataset.iloc[:,1:2].values\n",
    "y = dataset.iloc[:,2].values\n",
    "\n",
    "#Uncomment the below code if the data contains so many observations\n",
    "#from sklearn.model_selection import train_test_split\n",
    "#X_train, X_test, y_train, y_test = train_test_split(X,y,test_size = 0.2, random_state = 0)\n",
    "\n",
    "#Fitting the Regression Model to the dataset\n",
    "#Create your regressor here\n",
    "\n",
    "#Predicting a new result\n",
    "y_pred = regressor.predict([[6.5]])\n",
    "\n",
    "#Visualise the Regression resuts\n",
    "plt.scatter(X, y, color = \"red\")\n",
    "plt.plot(X ,regressor.predict(X), color = \"blue\")\n",
    "#Fill the parameters\n",
    "plt.title(\"\")\n",
    "plt.xlabel(\"\")\n",
    "plt.ylabel(\"\")\n",
    "plt.show()\n",
    "\n",
    "#Visualise the Regression results (for higher resolution and smoother curve)\n",
    "#Uncomment this\n",
    "#X_grid = np.arange(min(X), max(X), 0.1)\n",
    "#X_grid = X_grid.reshape((len(X_grid), 1))\n",
    "#plt.scatter(X, y, color = \"red\")\n",
    "#plt.plot(X_grid ,regressor.predict(X_grid), color = \"blue\")\n",
    "#Fill the parameters\n",
    "#plt.title(\"\")\n",
    "#plt.xlabel(\"\")\n",
    "#plt.ylabel(\"\")\n",
    "#plt.show()"
   ]
  }
 ],
 "metadata": {
  "kernelspec": {
   "display_name": "Python 3",
   "language": "python",
   "name": "python3"
  },
  "language_info": {
   "codemirror_mode": {
    "name": "ipython",
    "version": 3
   },
   "file_extension": ".py",
   "mimetype": "text/x-python",
   "name": "python",
   "nbconvert_exporter": "python",
   "pygments_lexer": "ipython3",
   "version": "3.7.0"
  }
 },
 "nbformat": 4,
 "nbformat_minor": 5
}
