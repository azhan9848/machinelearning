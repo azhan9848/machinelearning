{
 "cells": [
  {
   "cell_type": "markdown",
   "id": "6a9be1ce-a81a-4443-9bae-e1f0a7eaad75",
   "metadata": {},
   "source": [
    "# Splitting the Dataset into the Training set and Test set"
   ]
  },
  {
   "cell_type": "markdown",
   "id": "3377ed08-d589-4220-baa0-177ab2879caf",
   "metadata": {},
   "source": [
    "### Data preprocessing"
   ]
  },
  {
   "cell_type": "code",
   "execution_count": 1,
   "id": "4f149013-e624-48df-9970-869b9152608d",
   "metadata": {},
   "outputs": [],
   "source": [
    "import numpy as np\n",
    "import matplotlib.pyplot as plt\n",
    "import pandas as pd\n",
    "dataset = pd.read_csv(\"Data.csv\")\n",
    "X = dataset.iloc[:,:-1].values\n",
    "y = dataset.iloc[:,3].values\n",
    "from sklearn.impute import SimpleImputer\n",
    "imputer = SimpleImputer(missing_values=np.nan, strategy='mean')\n",
    "imputer.fit(X[:, 1:3])\n",
    "X[:,1:3] = imputer.transform(X[:,1:3])"
   ]
  },
  {
   "cell_type": "markdown",
   "id": "30b3cd37-7b59-440b-9358-947ba2b33c8c",
   "metadata": {},
   "source": [
    "### Encoding categorical data for coulmns"
   ]
  },
  {
   "cell_type": "code",
   "execution_count": 2,
   "id": "48dbb647-1be6-4790-95ee-1a30c9d9d318",
   "metadata": {},
   "outputs": [],
   "source": [
    "from sklearn.preprocessing import LabelEncoder\n",
    "labelencoder_X = LabelEncoder()\n",
    "X[:,0] = labelencoder_X.fit_transform(X[:,0])\n",
    "from sklearn.preprocessing import OneHotEncoder\n",
    "from sklearn.compose import ColumnTransformer\n",
    "columnTransformer = ColumnTransformer([('encoder', OneHotEncoder(), [0])],     remainder='passthrough')\n",
    "X=np.array(columnTransformer.fit_transform(X),dtype=np.str)\n",
    "labelencoder_y = LabelEncoder()\n",
    "y = labelencoder_y.fit_transform(y)"
   ]
  },
  {
   "cell_type": "markdown",
   "id": "735b13ce-87c0-4313-ac08-433fac03aaf5",
   "metadata": {},
   "source": [
    "### Splitting the Dataset into the Training set and Test set"
   ]
  },
  {
   "cell_type": "code",
   "execution_count": 3,
   "id": "bf6bb5bc-23b7-460b-8df4-538d797d7cfb",
   "metadata": {},
   "outputs": [],
   "source": [
    "from sklearn.model_selection import train_test_split"
   ]
  },
  {
   "cell_type": "code",
   "execution_count": 4,
   "id": "900faf08-909e-49fc-afbb-608cc0f6c037",
   "metadata": {},
   "outputs": [],
   "source": [
    "X_train, X_test, y_train, y_test = train_test_split(X,y,test_size = 0.2, random_state = 0)"
   ]
  },
  {
   "cell_type": "code",
   "execution_count": 5,
   "id": "136e8d5f-fd64-4ae0-bf46-ab12e41788bb",
   "metadata": {},
   "outputs": [
    {
     "data": {
      "text/plain": [
       "(array([['0.0', '1.0', '0.0', '40.0', '63777.77777777778'],\n",
       "        ['1.0', '0.0', '0.0', '37.0', '67000.0'],\n",
       "        ['0.0', '0.0', '1.0', '27.0', '48000.0'],\n",
       "        ['0.0', '0.0', '1.0', '38.77777777777778', '52000.0'],\n",
       "        ['1.0', '0.0', '0.0', '48.0', '79000.0'],\n",
       "        ['0.0', '0.0', '1.0', '38.0', '61000.0'],\n",
       "        ['1.0', '0.0', '0.0', '44.0', '72000.0'],\n",
       "        ['1.0', '0.0', '0.0', '35.0', '58000.0']], dtype='<U17'),\n",
       " array([['0.0', '1.0', '0.0', '30.0', '54000.0'],\n",
       "        ['0.0', '1.0', '0.0', '50.0', '83000.0']], dtype='<U17'))"
      ]
     },
     "execution_count": 5,
     "metadata": {},
     "output_type": "execute_result"
    }
   ],
   "source": [
    "X_train, X_test"
   ]
  },
  {
   "cell_type": "code",
   "execution_count": 6,
   "id": "8905f008-f7bc-40d2-a933-08f59430b8c6",
   "metadata": {},
   "outputs": [
    {
     "data": {
      "text/plain": [
       "(array([1, 1, 1, 0, 1, 0, 0, 1]), array([0, 0]))"
      ]
     },
     "execution_count": 6,
     "metadata": {},
     "output_type": "execute_result"
    }
   ],
   "source": [
    "y_train, y_test"
   ]
  },
  {
   "cell_type": "markdown",
   "id": "d7d5ca4c-a28a-4e47-9250-24e410e9eb6c",
   "metadata": {},
   "source": [
    "This will be used as to establish a relation between independent and dependent variables. Morever, used to predict accuracy of the model."
   ]
  }
 ],
 "metadata": {
  "kernelspec": {
   "display_name": "Python 3",
   "language": "python",
   "name": "python3"
  },
  "language_info": {
   "codemirror_mode": {
    "name": "ipython",
    "version": 3
   },
   "file_extension": ".py",
   "mimetype": "text/x-python",
   "name": "python",
   "nbconvert_exporter": "python",
   "pygments_lexer": "ipython3",
   "version": "3.7.0"
  }
 },
 "nbformat": 4,
 "nbformat_minor": 5
}
