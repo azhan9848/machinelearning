{
  "nbformat": 4,
  "nbformat_minor": 0,
  "metadata": {
    "colab": {
      "name": "Car_price_prediction.ipynb",
      "provenance": [],
      "collapsed_sections": [
        "Rn7NKijo_hw-"
      ]
    },
    "kernelspec": {
      "display_name": "Python 3",
      "language": "python",
      "name": "python3"
    },
    "language_info": {
      "codemirror_mode": {
        "name": "ipython",
        "version": 3
      },
      "file_extension": ".py",
      "mimetype": "text/x-python",
      "name": "python",
      "nbconvert_exporter": "python",
      "pygments_lexer": "ipython3",
      "version": "3.6.5"
    }
  },
  "cells": [
    {
      "cell_type": "markdown",
      "metadata": {
        "id": "jkr26Q9EpIKx"
      },
      "source": [
        "# **Car Price Prediction**\n",
        "\n",
        "---\n",
        "\n",
        "The prices of new cars in the industry is fixed by the manufacturer.\n",
        "So, customers buying a new car can be assured of the money they invest to be worthy. But due to the increased price of new cars and the incapability of customers to buy new cars due to the lack of funds, used cars sales are on a global increase.There is a need for a used car price prediction system to effectively determine the worthiness of the car using a variety of features. Using this notebook we can train a model to predict a car price on the basis of there feature.\n",
        "\n",
        "\n",
        "*   Justifications during data cleaning(Identifying null values, filling missing values and removing outliers)\n",
        "*   Exploratory Data Analysis (EDA)\n",
        "*   Performing machine learning models: Random Forest, Linear Regression\n",
        "*   Comparison of the performance of the models\n",
        "*   Feature Selection using p-value\n",
        "*   Reporting the findings of the study in notebook's final result\n",
        "*   Single User Input Data\n",
        "\n",
        "\n",
        "\n",
        "\n"
      ]
    },
    {
      "cell_type": "code",
      "metadata": {
        "colab": {
          "base_uri": "https://localhost:8080/"
        },
        "id": "0PgAf5cV44a2",
        "outputId": "35887d9c-2532-4e92-ed00-706f2e94517a"
      },
      "source": [
        "# importing libraries\n",
        "\n",
        "import os\n",
        "import numpy as np\n",
        "import pandas as pd\n",
        "import matplotlib.pyplot as plt\n",
        "import seaborn as sns\n",
        "\n",
        "from sklearn.linear_model import LinearRegression\n",
        "from sklearn.ensemble import RandomForestRegressor\n",
        "from sklearn.ensemble import ExtraTreesRegressor\n",
        "\n",
        "from sklearn.metrics import mean_squared_error,mean_absolute_error\n",
        "from sklearn.metrics import r2_score\n",
        "\n",
        "import statsmodels.api as sm\n",
        "\n",
        "import pickle\n",
        "from sklearn.externals import joblib\n"
      ],
      "execution_count": 1,
      "outputs": [
        {
          "output_type": "stream",
          "text": [
            "/usr/local/lib/python3.7/dist-packages/statsmodels/tools/_testing.py:19: FutureWarning: pandas.util.testing is deprecated. Use the functions in the public API at pandas.testing instead.\n",
            "  import pandas.util.testing as tm\n",
            "/usr/local/lib/python3.7/dist-packages/sklearn/externals/joblib/__init__.py:15: FutureWarning: sklearn.externals.joblib is deprecated in 0.21 and will be removed in 0.23. Please import this functionality directly from joblib, which can be installed with: pip install joblib. If this warning is raised when loading pickled models, you may need to re-serialize those models with scikit-learn 0.21+.\n",
            "  warnings.warn(msg, category=FutureWarning)\n"
          ],
          "name": "stderr"
        }
      ]
    },
    {
      "cell_type": "code",
      "metadata": {
        "id": "w2yy4jbbqAm3"
      },
      "source": [
        ""
      ],
      "execution_count": 1,
      "outputs": []
    },
    {
      "cell_type": "code",
      "metadata": {
        "id": "mwQfoCsup2GQ"
      },
      "source": [
        "df= pd.read_csv('cars_price.csv',index_col=0)            #load data"
      ],
      "execution_count": null,
      "outputs": []
    },
    {
      "cell_type": "code",
      "metadata": {
        "colab": {
          "base_uri": "https://localhost:8080/",
          "height": 34
        },
        "id": "5Cp_Nb2rrbJY",
        "outputId": "c6f7bed7-5af5-4859-df84-8446b8c8e96c"
      },
      "source": [
        "os.getcwd()"
      ],
      "execution_count": null,
      "outputs": [
        {
          "output_type": "execute_result",
          "data": {
            "text/plain": [
              "'C:\\\\Users\\\\Code_love_r\\\\Desktop\\\\Mechademy\\\\Car price prediction'"
            ]
          },
          "metadata": {
            "tags": []
          },
          "execution_count": 4
        }
      ]
    },
    {
      "cell_type": "code",
      "metadata": {
        "colab": {
          "base_uri": "https://localhost:8080/",
          "height": 198
        },
        "id": "Xulm0u0droqZ",
        "outputId": "5796abc9-c3eb-4777-9d91-3148724519ad"
      },
      "source": [
        "df.head()"
      ],
      "execution_count": null,
      "outputs": [
        {
          "output_type": "execute_result",
          "data": {
            "text/html": [
              "<div>\n",
              "<style scoped>\n",
              "    .dataframe tbody tr th:only-of-type {\n",
              "        vertical-align: middle;\n",
              "    }\n",
              "\n",
              "    .dataframe tbody tr th {\n",
              "        vertical-align: top;\n",
              "    }\n",
              "\n",
              "    .dataframe thead th {\n",
              "        text-align: right;\n",
              "    }\n",
              "</style>\n",
              "<table border=\"1\" class=\"dataframe\">\n",
              "  <thead>\n",
              "    <tr style=\"text-align: right;\">\n",
              "      <th></th>\n",
              "      <th>make</th>\n",
              "      <th>model</th>\n",
              "      <th>priceUSD</th>\n",
              "      <th>year</th>\n",
              "      <th>condition</th>\n",
              "      <th>mileage(kilometers)</th>\n",
              "      <th>fuel_type</th>\n",
              "      <th>volume(cm3)</th>\n",
              "      <th>color</th>\n",
              "      <th>transmission</th>\n",
              "      <th>drive_unit</th>\n",
              "      <th>segment</th>\n",
              "    </tr>\n",
              "  </thead>\n",
              "  <tbody>\n",
              "    <tr>\n",
              "      <th>0</th>\n",
              "      <td>honda</td>\n",
              "      <td>accord</td>\n",
              "      <td>565</td>\n",
              "      <td>1993</td>\n",
              "      <td>with mileage</td>\n",
              "      <td>960015.0</td>\n",
              "      <td>petrol</td>\n",
              "      <td>2000.0</td>\n",
              "      <td>black</td>\n",
              "      <td>mechanics</td>\n",
              "      <td>front-wheel drive</td>\n",
              "      <td>D</td>\n",
              "    </tr>\n",
              "    <tr>\n",
              "      <th>1</th>\n",
              "      <td>ford</td>\n",
              "      <td>fusion</td>\n",
              "      <td>5550</td>\n",
              "      <td>2008</td>\n",
              "      <td>with mileage</td>\n",
              "      <td>172000.0</td>\n",
              "      <td>diesel</td>\n",
              "      <td>1400.0</td>\n",
              "      <td>silver</td>\n",
              "      <td>mechanics</td>\n",
              "      <td>front-wheel drive</td>\n",
              "      <td>M</td>\n",
              "    </tr>\n",
              "    <tr>\n",
              "      <th>2</th>\n",
              "      <td>nissan</td>\n",
              "      <td>teana</td>\n",
              "      <td>8300</td>\n",
              "      <td>2008</td>\n",
              "      <td>with mileage</td>\n",
              "      <td>223000.0</td>\n",
              "      <td>petrol</td>\n",
              "      <td>2500.0</td>\n",
              "      <td>purple</td>\n",
              "      <td>auto</td>\n",
              "      <td>front-wheel drive</td>\n",
              "      <td>D</td>\n",
              "    </tr>\n",
              "    <tr>\n",
              "      <th>3</th>\n",
              "      <td>volkswagen</td>\n",
              "      <td>fox</td>\n",
              "      <td>3300</td>\n",
              "      <td>2005</td>\n",
              "      <td>with mileage</td>\n",
              "      <td>140000.0</td>\n",
              "      <td>petrol</td>\n",
              "      <td>1200.0</td>\n",
              "      <td>blue</td>\n",
              "      <td>mechanics</td>\n",
              "      <td>front-wheel drive</td>\n",
              "      <td>A</td>\n",
              "    </tr>\n",
              "    <tr>\n",
              "      <th>4</th>\n",
              "      <td>nissan</td>\n",
              "      <td>primera</td>\n",
              "      <td>2450</td>\n",
              "      <td>2002</td>\n",
              "      <td>with damage</td>\n",
              "      <td>413000.0</td>\n",
              "      <td>diesel</td>\n",
              "      <td>2200.0</td>\n",
              "      <td>burgundy</td>\n",
              "      <td>mechanics</td>\n",
              "      <td>front-wheel drive</td>\n",
              "      <td>D</td>\n",
              "    </tr>\n",
              "  </tbody>\n",
              "</table>\n",
              "</div>"
            ],
            "text/plain": [
              "         make    model  priceUSD  year     condition  mileage(kilometers)  \\\n",
              "0       honda   accord       565  1993  with mileage             960015.0   \n",
              "1        ford   fusion      5550  2008  with mileage             172000.0   \n",
              "2      nissan    teana      8300  2008  with mileage             223000.0   \n",
              "3  volkswagen      fox      3300  2005  with mileage             140000.0   \n",
              "4      nissan  primera      2450  2002   with damage             413000.0   \n",
              "\n",
              "  fuel_type  volume(cm3)     color transmission         drive_unit segment  \n",
              "0    petrol       2000.0     black    mechanics  front-wheel drive       D  \n",
              "1    diesel       1400.0    silver    mechanics  front-wheel drive       M  \n",
              "2    petrol       2500.0    purple         auto  front-wheel drive       D  \n",
              "3    petrol       1200.0      blue    mechanics  front-wheel drive       A  \n",
              "4    diesel       2200.0  burgundy    mechanics  front-wheel drive       D  "
            ]
          },
          "metadata": {
            "tags": []
          },
          "execution_count": 5
        }
      ]
    },
    {
      "cell_type": "code",
      "metadata": {
        "colab": {
          "base_uri": "https://localhost:8080/",
          "height": 168
        },
        "id": "KYZ5PTI-siba",
        "outputId": "0050becb-2a71-456e-c75b-e6cb304b6308"
      },
      "source": [
        "# Observe the data using describe function\n",
        "\n",
        "df.describe().T"
      ],
      "execution_count": null,
      "outputs": [
        {
          "output_type": "execute_result",
          "data": {
            "text/html": [
              "<div>\n",
              "<style scoped>\n",
              "    .dataframe tbody tr th:only-of-type {\n",
              "        vertical-align: middle;\n",
              "    }\n",
              "\n",
              "    .dataframe tbody tr th {\n",
              "        vertical-align: top;\n",
              "    }\n",
              "\n",
              "    .dataframe thead th {\n",
              "        text-align: right;\n",
              "    }\n",
              "</style>\n",
              "<table border=\"1\" class=\"dataframe\">\n",
              "  <thead>\n",
              "    <tr style=\"text-align: right;\">\n",
              "      <th></th>\n",
              "      <th>count</th>\n",
              "      <th>mean</th>\n",
              "      <th>std</th>\n",
              "      <th>min</th>\n",
              "      <th>25%</th>\n",
              "      <th>50%</th>\n",
              "      <th>75%</th>\n",
              "      <th>max</th>\n",
              "    </tr>\n",
              "  </thead>\n",
              "  <tbody>\n",
              "    <tr>\n",
              "      <th>priceUSD</th>\n",
              "      <td>40000.0</td>\n",
              "      <td>7430.383775</td>\n",
              "      <td>8338.242134</td>\n",
              "      <td>95.0</td>\n",
              "      <td>2350.0</td>\n",
              "      <td>5350.0</td>\n",
              "      <td>9850.0</td>\n",
              "      <td>195000.0</td>\n",
              "    </tr>\n",
              "    <tr>\n",
              "      <th>year</th>\n",
              "      <td>40000.0</td>\n",
              "      <td>2003.485625</td>\n",
              "      <td>8.114896</td>\n",
              "      <td>1938.0</td>\n",
              "      <td>1998.0</td>\n",
              "      <td>2004.0</td>\n",
              "      <td>2010.0</td>\n",
              "      <td>2019.0</td>\n",
              "    </tr>\n",
              "    <tr>\n",
              "      <th>mileage(kilometers)</th>\n",
              "      <td>40000.0</td>\n",
              "      <td>243433.200218</td>\n",
              "      <td>316703.266582</td>\n",
              "      <td>0.0</td>\n",
              "      <td>137000.0</td>\n",
              "      <td>228000.0</td>\n",
              "      <td>308761.0</td>\n",
              "      <td>9999999.0</td>\n",
              "    </tr>\n",
              "    <tr>\n",
              "      <th>volume(cm3)</th>\n",
              "      <td>39970.0</td>\n",
              "      <td>2103.201676</td>\n",
              "      <td>938.724653</td>\n",
              "      <td>500.0</td>\n",
              "      <td>1600.0</td>\n",
              "      <td>1995.0</td>\n",
              "      <td>2300.0</td>\n",
              "      <td>20000.0</td>\n",
              "    </tr>\n",
              "  </tbody>\n",
              "</table>\n",
              "</div>"
            ],
            "text/plain": [
              "                       count           mean            std     min       25%  \\\n",
              "priceUSD             40000.0    7430.383775    8338.242134    95.0    2350.0   \n",
              "year                 40000.0    2003.485625       8.114896  1938.0    1998.0   \n",
              "mileage(kilometers)  40000.0  243433.200218  316703.266582     0.0  137000.0   \n",
              "volume(cm3)          39970.0    2103.201676     938.724653   500.0    1600.0   \n",
              "\n",
              "                          50%       75%        max  \n",
              "priceUSD               5350.0    9850.0   195000.0  \n",
              "year                   2004.0    2010.0     2019.0  \n",
              "mileage(kilometers)  228000.0  308761.0  9999999.0  \n",
              "volume(cm3)            1995.0    2300.0    20000.0  "
            ]
          },
          "metadata": {
            "tags": []
          },
          "execution_count": 6
        }
      ]
    },
    {
      "cell_type": "markdown",
      "metadata": {
        "id": "fvb8-bht6z60"
      },
      "source": [
        "**OBSERVATION**\n",
        "\n",
        "\n",
        "*   Minimum Price of Car is 95 USD and maximum price is 195000 USD.\n",
        "*   Given Data is from 1938 to 2019.\n",
        "*   Minimum mileage(kilometers) is 0.\n",
        "\n",
        "\n",
        "\n",
        "\n",
        "\n"
      ]
    },
    {
      "cell_type": "code",
      "metadata": {
        "colab": {
          "base_uri": "https://localhost:8080/"
        },
        "id": "N6-EsL7E6Foy",
        "outputId": "7386e82d-b1c3-447f-c706-572e3436e1d9"
      },
      "source": [
        "df.info()"
      ],
      "execution_count": null,
      "outputs": [
        {
          "output_type": "stream",
          "text": [
            "<class 'pandas.core.frame.DataFrame'>\n",
            "Int64Index: 40000 entries, 0 to 39999\n",
            "Data columns (total 12 columns):\n",
            "make                   40000 non-null object\n",
            "model                  40000 non-null object\n",
            "priceUSD               40000 non-null int64\n",
            "year                   40000 non-null int64\n",
            "condition              40000 non-null object\n",
            "mileage(kilometers)    40000 non-null float64\n",
            "fuel_type              40000 non-null object\n",
            "volume(cm3)            39970 non-null float64\n",
            "color                  40000 non-null object\n",
            "transmission           40000 non-null object\n",
            "drive_unit             38655 non-null object\n",
            "segment                36245 non-null object\n",
            "dtypes: float64(2), int64(2), object(8)\n",
            "memory usage: 4.0+ MB\n"
          ],
          "name": "stdout"
        }
      ]
    },
    {
      "cell_type": "markdown",
      "metadata": {
        "id": "77dhmbYZ8uG1"
      },
      "source": [
        "## **Data Cleaning and pre-processing**"
      ]
    },
    {
      "cell_type": "code",
      "metadata": {
        "colab": {
          "base_uri": "https://localhost:8080/"
        },
        "id": "upI5fIAB6iK-",
        "outputId": "0d08ccb9-7d99-4711-9282-db0c77d94075"
      },
      "source": [
        "#missing data\n",
        "df.isnull().sum().sort_values(ascending=False)"
      ],
      "execution_count": null,
      "outputs": [
        {
          "output_type": "execute_result",
          "data": {
            "text/plain": [
              "segment                3755\n",
              "drive_unit             1345\n",
              "volume(cm3)              30\n",
              "transmission              0\n",
              "color                     0\n",
              "fuel_type                 0\n",
              "mileage(kilometers)       0\n",
              "condition                 0\n",
              "year                      0\n",
              "priceUSD                  0\n",
              "model                     0\n",
              "make                      0\n",
              "dtype: int64"
            ]
          },
          "metadata": {
            "tags": []
          },
          "execution_count": 8
        }
      ]
    },
    {
      "cell_type": "markdown",
      "metadata": {
        "id": "yDjWyGkww7yr"
      },
      "source": [
        "In given Dataset, three columns have missing values\n",
        "1.   segment\n",
        "2.   drive unit\n",
        "3.   volume(cm3)\n",
        "\n",
        "So, we need to fill or drop these missing values.In this case i will drop the rows with missing values.\n",
        "\n"
      ]
    },
    {
      "cell_type": "code",
      "metadata": {
        "id": "kPsHmegk8p5x"
      },
      "source": [
        "df.dropna(inplace=True)"
      ],
      "execution_count": null,
      "outputs": []
    },
    {
      "cell_type": "markdown",
      "metadata": {
        "id": "hX8FAiXM_CCr"
      },
      "source": [
        "Check the number of duplicates in the dataset and after that remove the duplicates."
      ]
    },
    {
      "cell_type": "code",
      "metadata": {
        "colab": {
          "base_uri": "https://localhost:8080/"
        },
        "id": "mjRcPQed99ja",
        "outputId": "6ae56d5d-7cb8-4694-d52d-d41a62f9cb35"
      },
      "source": [
        "duplicate_rows_df = df[df.duplicated()]\n",
        "duplicate_rows_df.shape"
      ],
      "execution_count": null,
      "outputs": [
        {
          "output_type": "execute_result",
          "data": {
            "text/plain": [
              "(45, 12)"
            ]
          },
          "metadata": {
            "tags": []
          },
          "execution_count": 10
        }
      ]
    },
    {
      "cell_type": "markdown",
      "metadata": {
        "id": "s_ECGHqX-Jsk"
      },
      "source": [
        "As we can see, there are 45 duplicate rows in this dataset which I will remove from the dataset."
      ]
    },
    {
      "cell_type": "code",
      "metadata": {
        "id": "e33cAwBx-Ztb"
      },
      "source": [
        "df = df[~df.duplicated()]"
      ],
      "execution_count": null,
      "outputs": []
    },
    {
      "cell_type": "code",
      "metadata": {
        "colab": {
          "base_uri": "https://localhost:8080/"
        },
        "id": "wlnOI6dE_kWI",
        "outputId": "7b9982fb-33fd-49dc-bd75-2188234760f4"
      },
      "source": [
        "df.info()"
      ],
      "execution_count": null,
      "outputs": [
        {
          "output_type": "stream",
          "text": [
            "<class 'pandas.core.frame.DataFrame'>\n",
            "Int64Index: 34971 entries, 0 to 39999\n",
            "Data columns (total 12 columns):\n",
            "make                   34971 non-null object\n",
            "model                  34971 non-null object\n",
            "priceUSD               34971 non-null int64\n",
            "year                   34971 non-null int64\n",
            "condition              34971 non-null object\n",
            "mileage(kilometers)    34971 non-null float64\n",
            "fuel_type              34971 non-null object\n",
            "volume(cm3)            34971 non-null float64\n",
            "color                  34971 non-null object\n",
            "transmission           34971 non-null object\n",
            "drive_unit             34971 non-null object\n",
            "segment                34971 non-null object\n",
            "dtypes: float64(2), int64(2), object(8)\n",
            "memory usage: 3.5+ MB\n"
          ],
          "name": "stdout"
        }
      ]
    },
    {
      "cell_type": "code",
      "metadata": {
        "colab": {
          "base_uri": "https://localhost:8080/"
        },
        "id": "VP7yQ6w7_n9D",
        "outputId": "1c8ed6f5-b58a-4db2-c15d-0b31a4fdaffa"
      },
      "source": [
        "df.nunique()"
      ],
      "execution_count": null,
      "outputs": [
        {
          "output_type": "execute_result",
          "data": {
            "text/plain": [
              "make                     51\n",
              "model                   458\n",
              "priceUSD               2328\n",
              "year                     62\n",
              "condition                 3\n",
              "mileage(kilometers)    5755\n",
              "fuel_type                 2\n",
              "volume(cm3)             352\n",
              "color                    13\n",
              "transmission              2\n",
              "drive_unit                4\n",
              "segment                   9\n",
              "dtype: int64"
            ]
          },
          "metadata": {
            "tags": []
          },
          "execution_count": 13
        }
      ]
    },
    {
      "cell_type": "markdown",
      "metadata": {
        "id": "ITJ6C4SOCkq1"
      },
      "source": [
        "**Outlier**"
      ]
    },
    {
      "cell_type": "markdown",
      "metadata": {
        "id": "ZKR2DrcrBCqc"
      },
      "source": [
        "As we saw earlier that few of the cars have mileage as zero which may not be correct."
      ]
    },
    {
      "cell_type": "code",
      "metadata": {
        "colab": {
          "base_uri": "https://localhost:8080/"
        },
        "id": "i-upLPkoBYgC",
        "outputId": "4c57e738-eab2-4b87-e993-e2bef4bf1e47"
      },
      "source": [
        "df[df['mileage(kilometers)']==0].count()"
      ],
      "execution_count": null,
      "outputs": [
        {
          "output_type": "execute_result",
          "data": {
            "text/plain": [
              "make                   98\n",
              "model                  98\n",
              "priceUSD               98\n",
              "year                   98\n",
              "condition              98\n",
              "mileage(kilometers)    98\n",
              "fuel_type              98\n",
              "volume(cm3)            98\n",
              "color                  98\n",
              "transmission           98\n",
              "drive_unit             98\n",
              "segment                98\n",
              "dtype: int64"
            ]
          },
          "metadata": {
            "tags": []
          },
          "execution_count": 14
        }
      ]
    },
    {
      "cell_type": "markdown",
      "metadata": {
        "id": "Vxs2rLCCBp3s"
      },
      "source": [
        "There are 98 rows with 0 value as mileage."
      ]
    },
    {
      "cell_type": "code",
      "metadata": {
        "colab": {
          "base_uri": "https://localhost:8080/",
          "height": 296
        },
        "id": "iAVTdKlFPQlC",
        "outputId": "828bcfcb-a2f2-48df-ae08-3b68723cf49c"
      },
      "source": [
        "sns.boxplot(x=df['mileage(kilometers)'])"
      ],
      "execution_count": null,
      "outputs": [
        {
          "output_type": "execute_result",
          "data": {
            "text/plain": [
              "<matplotlib.axes._subplots.AxesSubplot at 0x23e64bde320>"
            ]
          },
          "metadata": {
            "tags": []
          },
          "execution_count": 15
        },
        {
          "output_type": "display_data",
          "data": {
            "image/png": "[encoded data removed]",
            "text/plain": [
              "<Figure size 432x288 with 1 Axes>"
            ]
          },
          "metadata": {
            "tags": [],
            "needs_background": "light"
          }
        }
      ]
    },
    {
      "cell_type": "code",
      "metadata": {
        "colab": {
          "base_uri": "https://localhost:8080/",
          "height": 296
        },
        "id": "uYxdFv3bEI0C",
        "outputId": "97a522e7-3834-4366-9fd4-c4ca3b72701f"
      },
      "source": [
        "sns.boxplot(x=df['priceUSD'])"
      ],
      "execution_count": null,
      "outputs": [
        {
          "output_type": "execute_result",
          "data": {
            "text/plain": [
              "<matplotlib.axes._subplots.AxesSubplot at 0x23e64c19588>"
            ]
          },
          "metadata": {
            "tags": []
          },
          "execution_count": 16
        },
        {
          "output_type": "display_data",
          "data": {
            "image/png": "[encoded data removed]",
            "text/plain": [
              "<Figure size 432x288 with 1 Axes>"
            ]
          },
          "metadata": {
            "tags": [],
            "needs_background": "light"
          }
        }
      ]
    },
    {
      "cell_type": "code",
      "metadata": {
        "colab": {
          "base_uri": "https://localhost:8080/",
          "height": 296
        },
        "id": "QC_gN2u8P8ee",
        "outputId": "739f5b3d-6fa9-4b08-b12a-51ec2cb38be9"
      },
      "source": [
        "sns.boxplot(x=df['volume(cm3)'])"
      ],
      "execution_count": null,
      "outputs": [
        {
          "output_type": "execute_result",
          "data": {
            "text/plain": [
              "<matplotlib.axes._subplots.AxesSubplot at 0x23e64c9ffd0>"
            ]
          },
          "metadata": {
            "tags": []
          },
          "execution_count": 17
        },
        {
          "output_type": "display_data",
          "data": {
            "image/png": "[encoded data removed]",
            "text/plain": [
              "<Figure size 432x288 with 1 Axes>"
            ]
          },
          "metadata": {
            "tags": [],
            "needs_background": "light"
          }
        }
      ]
    },
    {
      "cell_type": "code",
      "metadata": {
        "colab": {
          "base_uri": "https://localhost:8080/",
          "height": 296
        },
        "id": "Nve6AubvQUcV",
        "outputId": "e6be9f3c-85d0-432c-92cb-d9cb5276982f"
      },
      "source": [
        "sns.boxplot(x=df['year'])"
      ],
      "execution_count": null,
      "outputs": [
        {
          "output_type": "execute_result",
          "data": {
            "text/plain": [
              "<matplotlib.axes._subplots.AxesSubplot at 0x23e64d101d0>"
            ]
          },
          "metadata": {
            "tags": []
          },
          "execution_count": 18
        },
        {
          "output_type": "display_data",
          "data": {
            "image/png": "[encoded data removed]",
            "text/plain": [
              "<Figure size 432x288 with 1 Axes>"
            ]
          },
          "metadata": {
            "tags": [],
            "needs_background": "light"
          }
        }
      ]
    },
    {
      "cell_type": "markdown",
      "metadata": {
        "id": "caBjEjW-C0gL"
      },
      "source": [
        "As we can notice from the boxplots, we don't only have very low points but we also have a lot of high points.\n",
        "\n",
        "In order to detect and remove outliers we are going to use a technique called \"IQR score technique\"."
      ]
    },
    {
      "cell_type": "code",
      "metadata": {
        "colab": {
          "base_uri": "https://localhost:8080/"
        },
        "id": "p1qYq-7bC60Y",
        "outputId": "c46f4c80-380b-416c-c6de-25667f713ae5"
      },
      "source": [
        "Q1 = df.quantile(0.25)\n",
        "Q3 = df.quantile(0.75)\n",
        "IQR = Q3 - Q1\n",
        "print(IQR)"
      ],
      "execution_count": null,
      "outputs": [
        {
          "output_type": "stream",
          "text": [
            "priceUSD                 7400.0\n",
            "year                       12.0\n",
            "mileage(kilometers)    170417.0\n",
            "volume(cm3)               700.0\n",
            "dtype: float64\n"
          ],
          "name": "stdout"
        }
      ]
    },
    {
      "cell_type": "code",
      "metadata": {
        "id": "Pz_1K4alXVai"
      },
      "source": [
        "df['priceUSD']=df['priceUSD'].astype(float)\n",
        "df['year'] = df['year'].astype(float)\n",
        "df['mileage(kilometers)']= df['mileage(kilometers)'].astype(float)\n",
        "df['volume(cm3)'] = df['volume(cm3)'].astype(float)"
      ],
      "execution_count": null,
      "outputs": []
    },
    {
      "cell_type": "code",
      "metadata": {
        "colab": {
          "base_uri": "https://localhost:8080/"
        },
        "id": "dvYtZRjmFMG-",
        "outputId": "4c2228ac-1d21-4258-f377-bae7c37c6cea"
      },
      "source": [
        "df = df[~((df[['priceUSD', 'year', 'mileage(kilometers)', 'volume(cm3)']] < (Q1-1.5 * IQR)) |(df[['priceUSD', 'year', 'mileage(kilometers)', 'volume(cm3)']] > (Q3 + 1.5 * IQR))).any(axis=1)]  #remove outliers from dataset\n",
        "df.shape"
      ],
      "execution_count": null,
      "outputs": [
        {
          "output_type": "execute_result",
          "data": {
            "text/plain": [
              "(31404, 12)"
            ]
          },
          "metadata": {
            "tags": []
          },
          "execution_count": 21
        }
      ]
    },
    {
      "cell_type": "code",
      "metadata": {
        "colab": {
          "base_uri": "https://localhost:8080/"
        },
        "id": "4VZbK7mJx19C",
        "outputId": "e3cdce97-19d7-4298-9c73-634dde2f2048"
      },
      "source": [
        "df[df['mileage(kilometers)']==0].count()"
      ],
      "execution_count": null,
      "outputs": [
        {
          "output_type": "execute_result",
          "data": {
            "text/plain": [
              "make                   87\n",
              "model                  87\n",
              "priceUSD               87\n",
              "year                   87\n",
              "condition              87\n",
              "mileage(kilometers)    87\n",
              "fuel_type              87\n",
              "volume(cm3)            87\n",
              "color                  87\n",
              "transmission           87\n",
              "drive_unit             87\n",
              "segment                87\n",
              "dtype: int64"
            ]
          },
          "metadata": {
            "tags": []
          },
          "execution_count": 22
        }
      ]
    },
    {
      "cell_type": "markdown",
      "metadata": {
        "id": "KngVYi9SyIs_"
      },
      "source": [
        "We haven't deleted all rows where the mileage is equal to 0, but deleted 11 of them."
      ]
    },
    {
      "cell_type": "markdown",
      "metadata": {
        "id": "Rn7NKijo_hw-"
      },
      "source": [
        "## **Exploratory Data Analysis (EDA)**\n",
        "\n",
        "EDA helps in better data understanding by visualizing, summarizing and interpreting the information that is hidden in data."
      ]
    },
    {
      "cell_type": "code",
      "metadata": {
        "colab": {
          "base_uri": "https://localhost:8080/"
        },
        "id": "DoJGA_ln-Gd0",
        "outputId": "f9144b97-f919-483d-847a-58528038a4f6"
      },
      "source": [
        "brand_of_car = df.groupby('make')['model'].count().reset_index().sort_values('model',ascending = False).head(15)\n",
        "brand_of_car = brand_of_car.rename(columns = {'make':'brand','model':'count'})\n",
        "fig,ax=plt.subplots(figsize=(15,6))\n",
        "sns.barplot(data=brand_of_car, x='brand',y='count', ax=ax)"
      ],
      "execution_count": null,
      "outputs": [
        {
          "output_type": "execute_result",
          "data": {
            "text/plain": [
              "<matplotlib.axes._subplots.AxesSubplot at 0x23e64de5828>"
            ]
          },
          "metadata": {
            "tags": []
          },
          "execution_count": 23
        },
        {
          "output_type": "display_data",
          "data": {
            "image/png": "[encoded data removed]",
            "text/plain": [
              "<Figure size 1080x432 with 1 Axes>"
            ]
          },
          "metadata": {
            "tags": [],
            "needs_background": "light"
          }
        }
      ]
    },
    {
      "cell_type": "markdown",
      "metadata": {
        "id": "PXdv1eMphdwq"
      },
      "source": [
        "Cleary Volkswagen is most comman brand followed by opel,audi and others in the given dataset."
      ]
    },
    {
      "cell_type": "code",
      "metadata": {
        "colab": {
          "base_uri": "https://localhost:8080/"
        },
        "id": "DBQoA2MlQ_b6",
        "outputId": "ca667159-7afa-48bd-bc5b-3dc138826a8d"
      },
      "source": [
        "df['year'].value_counts().nlargest(40).plot(kind='bar', figsize=(10,5))\n",
        "plt.title(\"Number of cars by Year\")\n",
        "plt.ylabel(\"Number of cars\")\n",
        "plt.xlabel(\"Year\")"
      ],
      "execution_count": null,
      "outputs": [
        {
          "output_type": "execute_result",
          "data": {
            "text/plain": [
              "Text(0.5, 0, 'Year')"
            ]
          },
          "metadata": {
            "tags": []
          },
          "execution_count": 24
        },
        {
          "output_type": "display_data",
          "data": {
            "image/png": "[encoded data removed]",
            "text/plain": [
              "<Figure size 720x360 with 1 Axes>"
            ]
          },
          "metadata": {
            "tags": [],
            "needs_background": "light"
          }
        }
      ]
    },
    {
      "cell_type": "markdown",
      "metadata": {
        "id": "nnaM4BbuRSbj"
      },
      "source": [
        "Highest number of cars in dataset is from 2008"
      ]
    },
    {
      "cell_type": "code",
      "metadata": {
        "colab": {
          "base_uri": "https://localhost:8080/"
        },
        "id": "ERXwC46dVzY6",
        "outputId": "205eaa9d-c271-425d-f0cb-929944dc5148"
      },
      "source": [
        "#year vs price\n",
        "\n",
        "plt.figure(figsize=(20,6))\n",
        "sns.boxplot(y=df['priceUSD'], x=df['year'])"
      ],
      "execution_count": null,
      "outputs": [
        {
          "output_type": "execute_result",
          "data": {
            "text/plain": [
              "<matplotlib.axes._subplots.AxesSubplot at 0x23e662d15f8>"
            ]
          },
          "metadata": {
            "tags": []
          },
          "execution_count": 25
        },
        {
          "output_type": "display_data",
          "data": {
            "image/png": "[encoded data removed]",
            "text/plain": [
              "<Figure size 1440x432 with 1 Axes>"
            ]
          },
          "metadata": {
            "tags": [],
            "needs_background": "light"
          }
        }
      ]
    },
    {
      "cell_type": "markdown",
      "metadata": {
        "id": "9mtDsdscW0SP"
      },
      "source": [
        "Clearly, it's a strong tendency.\n",
        "\n",
        "Price of Newest is high as compared to old models."
      ]
    },
    {
      "cell_type": "code",
      "metadata": {
        "colab": {
          "base_uri": "https://localhost:8080/"
        },
        "id": "izb5kAMITTlA",
        "outputId": "4d367551-2505-4296-9d6b-4f5a7b4bd5da"
      },
      "source": [
        "#mileage vs price\n",
        "\n",
        "plt.figure(figsize=(20,6))\n",
        "sns.scatterplot(x=df['priceUSD'], y=df['mileage(kilometers)'])"
      ],
      "execution_count": null,
      "outputs": [
        {
          "output_type": "execute_result",
          "data": {
            "text/plain": [
              "<matplotlib.axes._subplots.AxesSubplot at 0x23e689eba58>"
            ]
          },
          "metadata": {
            "tags": []
          },
          "execution_count": 26
        },
        {
          "output_type": "display_data",
          "data": {
            "image/png": "[encoded data removed]",
            "text/plain": [
              "<Figure size 1440x432 with 1 Axes>"
            ]
          },
          "metadata": {
            "tags": [],
            "needs_background": "light"
          }
        }
      ]
    },
    {
      "cell_type": "markdown",
      "metadata": {
        "id": "wy0G3NRmbqmi"
      },
      "source": [
        "Overall Less expensive cars has more mileage as compare to highly expensive cars."
      ]
    },
    {
      "cell_type": "code",
      "metadata": {
        "colab": {
          "base_uri": "https://localhost:8080/"
        },
        "id": "SP_j7QPsGBLr",
        "outputId": "70f2588b-5545-4beb-cbdb-8e01baf4c3be"
      },
      "source": [
        "plt.figure(figsize=(12,6))\n",
        "sns.barplot(x=df['condition'], y=df['priceUSD'],ci=None)"
      ],
      "execution_count": null,
      "outputs": [
        {
          "output_type": "execute_result",
          "data": {
            "text/plain": [
              "<matplotlib.axes._subplots.AxesSubplot at 0x23e64d66eb8>"
            ]
          },
          "metadata": {
            "tags": []
          },
          "execution_count": 27
        },
        {
          "output_type": "display_data",
          "data": {
            "image/png": "[encoded data removed]",
            "text/plain": [
              "<Figure size 864x432 with 1 Axes>"
            ]
          },
          "metadata": {
            "tags": [],
            "needs_background": "light"
          }
        }
      ]
    },
    {
      "cell_type": "markdown",
      "metadata": {
        "id": "24tkKILtGxMd"
      },
      "source": [
        "Damaged cars have less price than one with in good condition whereas cars which can be used for parts after buying is of lowest price.\n",
        "As the information from the dataset through this graph condition is one of the most important feature for price prediction."
      ]
    },
    {
      "cell_type": "code",
      "metadata": {
        "colab": {
          "base_uri": "https://localhost:8080/"
        },
        "id": "33xn2KbMNNrO",
        "outputId": "e0c2b418-4c0f-43e1-d561-cb05c2145a7f"
      },
      "source": [
        "plt.figure(figsize=(12,6))\n",
        "sns.boxplot(y=df['priceUSD'], x=df['fuel_type'])"
      ],
      "execution_count": null,
      "outputs": [
        {
          "output_type": "execute_result",
          "data": {
            "text/plain": [
              "<matplotlib.axes._subplots.AxesSubplot at 0x23e68f3b550>"
            ]
          },
          "metadata": {
            "tags": []
          },
          "execution_count": 28
        },
        {
          "output_type": "display_data",
          "data": {
            "image/png": "[encoded data removed]",
            "text/plain": [
              "<Figure size 864x432 with 1 Axes>"
            ]
          },
          "metadata": {
            "tags": [],
            "needs_background": "light"
          }
        }
      ]
    },
    {
      "cell_type": "markdown",
      "metadata": {
        "id": "SMe_XOyaVdYY"
      },
      "source": [
        "As, we thought diseal car is more expensive as compare to petrol car."
      ]
    },
    {
      "cell_type": "code",
      "metadata": {
        "colab": {
          "base_uri": "https://localhost:8080/"
        },
        "id": "HVMCg9RmIO8I",
        "outputId": "60bec898-9571-44e5-8431-58961fe48e3e"
      },
      "source": [
        "plt.figure(figsize=(12,6))\n",
        "sns.barplot(x=df['segment'], y=df['priceUSD'],ci=None)"
      ],
      "execution_count": null,
      "outputs": [
        {
          "output_type": "execute_result",
          "data": {
            "text/plain": [
              "<matplotlib.axes._subplots.AxesSubplot at 0x23e689ea358>"
            ]
          },
          "metadata": {
            "tags": []
          },
          "execution_count": 29
        },
        {
          "output_type": "display_data",
          "data": {
            "image/png": "[encoded data removed]",
            "text/plain": [
              "<Figure size 864x432 with 1 Axes>"
            ]
          },
          "metadata": {
            "tags": [],
            "needs_background": "light"
          }
        }
      ]
    },
    {
      "cell_type": "code",
      "metadata": {
        "colab": {
          "base_uri": "https://localhost:8080/"
        },
        "id": "SI1mmzYWJYcw",
        "outputId": "bdd33dfb-fd99-48a0-8efc-d1ef26e8fe1b"
      },
      "source": [
        "plt.figure(figsize=(12,6))\n",
        "sns.violinplot(x=df['segment'], y=df['priceUSD'])"
      ],
      "execution_count": null,
      "outputs": [
        {
          "output_type": "stream",
          "text": [
            "C:\\Users\\Code_love_r\\Anaconda3\\lib\\site-packages\\scipy\\stats\\stats.py:1713: FutureWarning: Using a non-tuple sequence for multidimensional indexing is deprecated; use `arr[tuple(seq)]` instead of `arr[seq]`. In the future this will be interpreted as an array index, `arr[np.array(seq)]`, which will result either in an error or a different result.\n",
            "  return np.add.reduce(sorted[indexer] * weights, axis=axis) / sumval\n"
          ],
          "name": "stderr"
        },
        {
          "output_type": "execute_result",
          "data": {
            "text/plain": [
              "<matplotlib.axes._subplots.AxesSubplot at 0x23e6918dc88>"
            ]
          },
          "metadata": {
            "tags": []
          },
          "execution_count": 30
        },
        {
          "output_type": "display_data",
          "data": {
            "image/png": "[encoded data removed]",
            "text/plain": [
              "<Figure size 864x432 with 1 Axes>"
            ]
          },
          "metadata": {
            "tags": [],
            "needs_background": "light"
          }
        }
      ]
    },
    {
      "cell_type": "markdown",
      "metadata": {
        "id": "wxBlM1NcJnRC"
      },
      "source": [
        "After seeing above two graphs, its clear that segment-J car's price range is highest followed by segment-S car's. Segment-J,S,F cars in the dataset is nearly of all prices or you can say normally distributed whereas others segments cars price are concentrated between some range  "
      ]
    },
    {
      "cell_type": "markdown",
      "metadata": {
        "id": "f6fxbh6DeloD"
      },
      "source": [
        "Black,gray,white,brown and silver colour car is present in all price range"
      ]
    },
    {
      "cell_type": "code",
      "metadata": {
        "colab": {
          "base_uri": "https://localhost:8080/"
        },
        "id": "_yJwiYTH4-2_",
        "outputId": "63be3ffe-05ba-48a8-c951-1327f089ddc0"
      },
      "source": [
        "# Finding the relations between the variables using heatmap\n",
        "plt.figure(figsize=(12,8))\n",
        "c= df.corr()\n",
        "sns.heatmap(c,cmap=\"BrBG\",annot=True)\n",
        "c"
      ],
      "execution_count": null,
      "outputs": [
        {
          "output_type": "execute_result",
          "data": {
            "text/html": [
              "<div>\n",
              "<style scoped>\n",
              "    .dataframe tbody tr th:only-of-type {\n",
              "        vertical-align: middle;\n",
              "    }\n",
              "\n",
              "    .dataframe tbody tr th {\n",
              "        vertical-align: top;\n",
              "    }\n",
              "\n",
              "    .dataframe thead th {\n",
              "        text-align: right;\n",
              "    }\n",
              "</style>\n",
              "<table border=\"1\" class=\"dataframe\">\n",
              "  <thead>\n",
              "    <tr style=\"text-align: right;\">\n",
              "      <th></th>\n",
              "      <th>priceUSD</th>\n",
              "      <th>year</th>\n",
              "      <th>mileage(kilometers)</th>\n",
              "      <th>volume(cm3)</th>\n",
              "    </tr>\n",
              "  </thead>\n",
              "  <tbody>\n",
              "    <tr>\n",
              "      <th>priceUSD</th>\n",
              "      <td>1.000000</td>\n",
              "      <td>0.798456</td>\n",
              "      <td>-0.349542</td>\n",
              "      <td>0.225421</td>\n",
              "    </tr>\n",
              "    <tr>\n",
              "      <th>year</th>\n",
              "      <td>0.798456</td>\n",
              "      <td>1.000000</td>\n",
              "      <td>-0.431562</td>\n",
              "      <td>-0.069314</td>\n",
              "    </tr>\n",
              "    <tr>\n",
              "      <th>mileage(kilometers)</th>\n",
              "      <td>-0.349542</td>\n",
              "      <td>-0.431562</td>\n",
              "      <td>1.000000</td>\n",
              "      <td>0.232888</td>\n",
              "    </tr>\n",
              "    <tr>\n",
              "      <th>volume(cm3)</th>\n",
              "      <td>0.225421</td>\n",
              "      <td>-0.069314</td>\n",
              "      <td>0.232888</td>\n",
              "      <td>1.000000</td>\n",
              "    </tr>\n",
              "  </tbody>\n",
              "</table>\n",
              "</div>"
            ],
            "text/plain": [
              "                     priceUSD      year  mileage(kilometers)  volume(cm3)\n",
              "priceUSD             1.000000  0.798456            -0.349542     0.225421\n",
              "year                 0.798456  1.000000            -0.431562    -0.069314\n",
              "mileage(kilometers) -0.349542 -0.431562             1.000000     0.232888\n",
              "volume(cm3)          0.225421 -0.069314             0.232888     1.000000"
            ]
          },
          "metadata": {
            "tags": []
          },
          "execution_count": 31
        },
        {
          "output_type": "display_data",
          "data": {
            "image/png": "[encoded data removed]",
            "text/plain": [
              "<Figure size 864x576 with 2 Axes>"
            ]
          },
          "metadata": {
            "tags": [],
            "needs_background": "light"
          }
        }
      ]
    },
    {
      "cell_type": "markdown",
      "metadata": {
        "id": "-qqkoyGlTEVM"
      },
      "source": [
        "In the above heat map we know that the price feature depends mainly on the year and the mileage as positive and negative corelation respectively."
      ]
    },
    {
      "cell_type": "markdown",
      "metadata": {
        "id": "AwQ79dxaS-Kg"
      },
      "source": [
        "Now,\n",
        "\n",
        "Let's delete all useless features, I will remove two column make and model as it contains only car brands and its models name which will not add much value in prediction."
      ]
    },
    {
      "cell_type": "code",
      "metadata": {
        "id": "vTbREvODSNtm"
      },
      "source": [
        "df.drop([\"make\"],axis=1,inplace=True)\n",
        "df.drop([\"model\"],axis=1,inplace=True)"
      ],
      "execution_count": null,
      "outputs": []
    },
    {
      "cell_type": "code",
      "metadata": {
        "colab": {
          "base_uri": "https://localhost:8080/"
        },
        "id": "3iFGjltvdhg7",
        "outputId": "9d0a4de2-2f20-407b-bc12-5b0f3921cdd8"
      },
      "source": [
        "df.head()"
      ],
      "execution_count": null,
      "outputs": [
        {
          "output_type": "execute_result",
          "data": {
            "text/html": [
              "<div>\n",
              "<style scoped>\n",
              "    .dataframe tbody tr th:only-of-type {\n",
              "        vertical-align: middle;\n",
              "    }\n",
              "\n",
              "    .dataframe tbody tr th {\n",
              "        vertical-align: top;\n",
              "    }\n",
              "\n",
              "    .dataframe thead th {\n",
              "        text-align: right;\n",
              "    }\n",
              "</style>\n",
              "<table border=\"1\" class=\"dataframe\">\n",
              "  <thead>\n",
              "    <tr style=\"text-align: right;\">\n",
              "      <th></th>\n",
              "      <th>priceUSD</th>\n",
              "      <th>year</th>\n",
              "      <th>condition</th>\n",
              "      <th>mileage(kilometers)</th>\n",
              "      <th>fuel_type</th>\n",
              "      <th>volume(cm3)</th>\n",
              "      <th>color</th>\n",
              "      <th>transmission</th>\n",
              "      <th>drive_unit</th>\n",
              "      <th>segment</th>\n",
              "    </tr>\n",
              "  </thead>\n",
              "  <tbody>\n",
              "    <tr>\n",
              "      <th>1</th>\n",
              "      <td>5550.0</td>\n",
              "      <td>2008.0</td>\n",
              "      <td>with mileage</td>\n",
              "      <td>172000.0</td>\n",
              "      <td>diesel</td>\n",
              "      <td>1400.0</td>\n",
              "      <td>silver</td>\n",
              "      <td>mechanics</td>\n",
              "      <td>front-wheel drive</td>\n",
              "      <td>M</td>\n",
              "    </tr>\n",
              "    <tr>\n",
              "      <th>2</th>\n",
              "      <td>8300.0</td>\n",
              "      <td>2008.0</td>\n",
              "      <td>with mileage</td>\n",
              "      <td>223000.0</td>\n",
              "      <td>petrol</td>\n",
              "      <td>2500.0</td>\n",
              "      <td>purple</td>\n",
              "      <td>auto</td>\n",
              "      <td>front-wheel drive</td>\n",
              "      <td>D</td>\n",
              "    </tr>\n",
              "    <tr>\n",
              "      <th>3</th>\n",
              "      <td>3300.0</td>\n",
              "      <td>2005.0</td>\n",
              "      <td>with mileage</td>\n",
              "      <td>140000.0</td>\n",
              "      <td>petrol</td>\n",
              "      <td>1200.0</td>\n",
              "      <td>blue</td>\n",
              "      <td>mechanics</td>\n",
              "      <td>front-wheel drive</td>\n",
              "      <td>A</td>\n",
              "    </tr>\n",
              "    <tr>\n",
              "      <th>4</th>\n",
              "      <td>2450.0</td>\n",
              "      <td>2002.0</td>\n",
              "      <td>with damage</td>\n",
              "      <td>413000.0</td>\n",
              "      <td>diesel</td>\n",
              "      <td>2200.0</td>\n",
              "      <td>burgundy</td>\n",
              "      <td>mechanics</td>\n",
              "      <td>front-wheel drive</td>\n",
              "      <td>D</td>\n",
              "    </tr>\n",
              "    <tr>\n",
              "      <th>5</th>\n",
              "      <td>18900.0</td>\n",
              "      <td>2016.0</td>\n",
              "      <td>with mileage</td>\n",
              "      <td>148000.0</td>\n",
              "      <td>diesel</td>\n",
              "      <td>1600.0</td>\n",
              "      <td>black</td>\n",
              "      <td>mechanics</td>\n",
              "      <td>front-wheel drive</td>\n",
              "      <td>J</td>\n",
              "    </tr>\n",
              "  </tbody>\n",
              "</table>\n",
              "</div>"
            ],
            "text/plain": [
              "   priceUSD    year     condition  mileage(kilometers) fuel_type  volume(cm3)  \\\n",
              "1    5550.0  2008.0  with mileage             172000.0    diesel       1400.0   \n",
              "2    8300.0  2008.0  with mileage             223000.0    petrol       2500.0   \n",
              "3    3300.0  2005.0  with mileage             140000.0    petrol       1200.0   \n",
              "4    2450.0  2002.0   with damage             413000.0    diesel       2200.0   \n",
              "5   18900.0  2016.0  with mileage             148000.0    diesel       1600.0   \n",
              "\n",
              "      color transmission         drive_unit segment  \n",
              "1    silver    mechanics  front-wheel drive       M  \n",
              "2    purple         auto  front-wheel drive       D  \n",
              "3      blue    mechanics  front-wheel drive       A  \n",
              "4  burgundy    mechanics  front-wheel drive       D  \n",
              "5     black    mechanics  front-wheel drive       J  "
            ]
          },
          "metadata": {
            "tags": []
          },
          "execution_count": 33
        }
      ]
    },
    {
      "cell_type": "markdown",
      "metadata": {
        "id": "lssDR2fSkv4D"
      },
      "source": [
        "###### **Working with Categorical Data**\n"
      ]
    },
    {
      "cell_type": "markdown",
      "metadata": {
        "id": "nLaDoS9nlAPG"
      },
      "source": [
        "As for now we have left with only 6 categorical features:\n",
        "\n",
        "\n",
        "\n",
        "1.   model\n",
        "2.   condition\n",
        "3.   Fuel_Type\n",
        "4.   transmission\n",
        "5.   segment\n",
        "6.   color\n",
        "7.   drive_unit\n",
        "\n",
        "\n",
        "For handeling categorical data. We mostly use these 2 path:\n",
        "\n",
        "\n",
        "\n",
        "*   OneHotEncoder\n",
        "*   LabelEncoder\n",
        "\n",
        "\n",
        "Where OneHotEncoder is used where data are not in any order and LabelEncoder when data is in order.\n",
        "\n",
        "In this case I will use pandas get_dummies feature for handling categorical data.\n",
        "\n"
      ]
    },
    {
      "cell_type": "markdown",
      "metadata": {
        "id": "SddllnoOpEpW"
      },
      "source": [
        "**Working for Fuel_Type**"
      ]
    },
    {
      "cell_type": "code",
      "metadata": {
        "colab": {
          "base_uri": "https://localhost:8080/"
        },
        "id": "gJtDRDxPp1mF",
        "outputId": "de267e9a-6657-46bd-b813-9741ffa3845b"
      },
      "source": [
        "Fuel_t = df[['fuel_type']]\n",
        "Fuel_t = pd.get_dummies(Fuel_t,drop_first=True)\n",
        "Fuel_t.head()"
      ],
      "execution_count": null,
      "outputs": [
        {
          "output_type": "execute_result",
          "data": {
            "text/html": [
              "<div>\n",
              "<style scoped>\n",
              "    .dataframe tbody tr th:only-of-type {\n",
              "        vertical-align: middle;\n",
              "    }\n",
              "\n",
              "    .dataframe tbody tr th {\n",
              "        vertical-align: top;\n",
              "    }\n",
              "\n",
              "    .dataframe thead th {\n",
              "        text-align: right;\n",
              "    }\n",
              "</style>\n",
              "<table border=\"1\" class=\"dataframe\">\n",
              "  <thead>\n",
              "    <tr style=\"text-align: right;\">\n",
              "      <th></th>\n",
              "      <th>fuel_type_petrol</th>\n",
              "    </tr>\n",
              "  </thead>\n",
              "  <tbody>\n",
              "    <tr>\n",
              "      <th>1</th>\n",
              "      <td>0</td>\n",
              "    </tr>\n",
              "    <tr>\n",
              "      <th>2</th>\n",
              "      <td>1</td>\n",
              "    </tr>\n",
              "    <tr>\n",
              "      <th>3</th>\n",
              "      <td>1</td>\n",
              "    </tr>\n",
              "    <tr>\n",
              "      <th>4</th>\n",
              "      <td>0</td>\n",
              "    </tr>\n",
              "    <tr>\n",
              "      <th>5</th>\n",
              "      <td>0</td>\n",
              "    </tr>\n",
              "  </tbody>\n",
              "</table>\n",
              "</div>"
            ],
            "text/plain": [
              "   fuel_type_petrol\n",
              "1                 0\n",
              "2                 1\n",
              "3                 1\n",
              "4                 0\n",
              "5                 0"
            ]
          },
          "metadata": {
            "tags": []
          },
          "execution_count": 34
        }
      ]
    },
    {
      "cell_type": "markdown",
      "metadata": {
        "id": "Fve_W2lSZIAL"
      },
      "source": [
        "**Working for condition**"
      ]
    },
    {
      "cell_type": "code",
      "metadata": {
        "colab": {
          "base_uri": "https://localhost:8080/"
        },
        "id": "zhsf846YCYLE",
        "outputId": "6b00ce2f-cb55-4b28-c4c9-a0926ec44127"
      },
      "source": [
        "condition = df[['condition']]\n",
        "condition = pd.get_dummies(condition,drop_first=True)\n",
        "condition.head()"
      ],
      "execution_count": null,
      "outputs": [
        {
          "output_type": "execute_result",
          "data": {
            "text/html": [
              "<div>\n",
              "<style scoped>\n",
              "    .dataframe tbody tr th:only-of-type {\n",
              "        vertical-align: middle;\n",
              "    }\n",
              "\n",
              "    .dataframe tbody tr th {\n",
              "        vertical-align: top;\n",
              "    }\n",
              "\n",
              "    .dataframe thead th {\n",
              "        text-align: right;\n",
              "    }\n",
              "</style>\n",
              "<table border=\"1\" class=\"dataframe\">\n",
              "  <thead>\n",
              "    <tr style=\"text-align: right;\">\n",
              "      <th></th>\n",
              "      <th>condition_with damage</th>\n",
              "      <th>condition_with mileage</th>\n",
              "    </tr>\n",
              "  </thead>\n",
              "  <tbody>\n",
              "    <tr>\n",
              "      <th>1</th>\n",
              "      <td>0</td>\n",
              "      <td>1</td>\n",
              "    </tr>\n",
              "    <tr>\n",
              "      <th>2</th>\n",
              "      <td>0</td>\n",
              "      <td>1</td>\n",
              "    </tr>\n",
              "    <tr>\n",
              "      <th>3</th>\n",
              "      <td>0</td>\n",
              "      <td>1</td>\n",
              "    </tr>\n",
              "    <tr>\n",
              "      <th>4</th>\n",
              "      <td>1</td>\n",
              "      <td>0</td>\n",
              "    </tr>\n",
              "    <tr>\n",
              "      <th>5</th>\n",
              "      <td>0</td>\n",
              "      <td>1</td>\n",
              "    </tr>\n",
              "  </tbody>\n",
              "</table>\n",
              "</div>"
            ],
            "text/plain": [
              "   condition_with damage  condition_with mileage\n",
              "1                      0                       1\n",
              "2                      0                       1\n",
              "3                      0                       1\n",
              "4                      1                       0\n",
              "5                      0                       1"
            ]
          },
          "metadata": {
            "tags": []
          },
          "execution_count": 35
        }
      ]
    },
    {
      "cell_type": "markdown",
      "metadata": {
        "id": "Tro-m9igc9u4"
      },
      "source": [
        "**Working for transmission**"
      ]
    },
    {
      "cell_type": "code",
      "metadata": {
        "colab": {
          "base_uri": "https://localhost:8080/"
        },
        "id": "DRsKovnudGXg",
        "outputId": "8fec7ce1-0f0c-4e0d-a032-4a9d1cfc20ec"
      },
      "source": [
        "Transmission = df[['transmission']]\n",
        "Transmission = pd.get_dummies(Transmission,drop_first=True)\n",
        "Transmission.head()"
      ],
      "execution_count": null,
      "outputs": [
        {
          "output_type": "execute_result",
          "data": {
            "text/html": [
              "<div>\n",
              "<style scoped>\n",
              "    .dataframe tbody tr th:only-of-type {\n",
              "        vertical-align: middle;\n",
              "    }\n",
              "\n",
              "    .dataframe tbody tr th {\n",
              "        vertical-align: top;\n",
              "    }\n",
              "\n",
              "    .dataframe thead th {\n",
              "        text-align: right;\n",
              "    }\n",
              "</style>\n",
              "<table border=\"1\" class=\"dataframe\">\n",
              "  <thead>\n",
              "    <tr style=\"text-align: right;\">\n",
              "      <th></th>\n",
              "      <th>transmission_mechanics</th>\n",
              "    </tr>\n",
              "  </thead>\n",
              "  <tbody>\n",
              "    <tr>\n",
              "      <th>1</th>\n",
              "      <td>1</td>\n",
              "    </tr>\n",
              "    <tr>\n",
              "      <th>2</th>\n",
              "      <td>0</td>\n",
              "    </tr>\n",
              "    <tr>\n",
              "      <th>3</th>\n",
              "      <td>1</td>\n",
              "    </tr>\n",
              "    <tr>\n",
              "      <th>4</th>\n",
              "      <td>1</td>\n",
              "    </tr>\n",
              "    <tr>\n",
              "      <th>5</th>\n",
              "      <td>1</td>\n",
              "    </tr>\n",
              "  </tbody>\n",
              "</table>\n",
              "</div>"
            ],
            "text/plain": [
              "   transmission_mechanics\n",
              "1                       1\n",
              "2                       0\n",
              "3                       1\n",
              "4                       1\n",
              "5                       1"
            ]
          },
          "metadata": {
            "tags": []
          },
          "execution_count": 36
        }
      ]
    },
    {
      "cell_type": "markdown",
      "metadata": {
        "id": "AYEBsKHodhPw"
      },
      "source": [
        "**Working for segment**"
      ]
    },
    {
      "cell_type": "code",
      "metadata": {
        "colab": {
          "base_uri": "https://localhost:8080/"
        },
        "id": "3sqAaFlDbyTF",
        "outputId": "c49699e6-64eb-40fa-96ec-eea14abe081f"
      },
      "source": [
        "segment = df[['segment']]\n",
        "segment = pd.get_dummies(segment,drop_first=True)\n",
        "segment.head()"
      ],
      "execution_count": null,
      "outputs": [
        {
          "output_type": "execute_result",
          "data": {
            "text/html": [
              "<div>\n",
              "<style scoped>\n",
              "    .dataframe tbody tr th:only-of-type {\n",
              "        vertical-align: middle;\n",
              "    }\n",
              "\n",
              "    .dataframe tbody tr th {\n",
              "        vertical-align: top;\n",
              "    }\n",
              "\n",
              "    .dataframe thead th {\n",
              "        text-align: right;\n",
              "    }\n",
              "</style>\n",
              "<table border=\"1\" class=\"dataframe\">\n",
              "  <thead>\n",
              "    <tr style=\"text-align: right;\">\n",
              "      <th></th>\n",
              "      <th>segment_B</th>\n",
              "      <th>segment_C</th>\n",
              "      <th>segment_D</th>\n",
              "      <th>segment_E</th>\n",
              "      <th>segment_F</th>\n",
              "      <th>segment_J</th>\n",
              "      <th>segment_M</th>\n",
              "      <th>segment_S</th>\n",
              "    </tr>\n",
              "  </thead>\n",
              "  <tbody>\n",
              "    <tr>\n",
              "      <th>1</th>\n",
              "      <td>0</td>\n",
              "      <td>0</td>\n",
              "      <td>0</td>\n",
              "      <td>0</td>\n",
              "      <td>0</td>\n",
              "      <td>0</td>\n",
              "      <td>1</td>\n",
              "      <td>0</td>\n",
              "    </tr>\n",
              "    <tr>\n",
              "      <th>2</th>\n",
              "      <td>0</td>\n",
              "      <td>0</td>\n",
              "      <td>1</td>\n",
              "      <td>0</td>\n",
              "      <td>0</td>\n",
              "      <td>0</td>\n",
              "      <td>0</td>\n",
              "      <td>0</td>\n",
              "    </tr>\n",
              "    <tr>\n",
              "      <th>3</th>\n",
              "      <td>0</td>\n",
              "      <td>0</td>\n",
              "      <td>0</td>\n",
              "      <td>0</td>\n",
              "      <td>0</td>\n",
              "      <td>0</td>\n",
              "      <td>0</td>\n",
              "      <td>0</td>\n",
              "    </tr>\n",
              "    <tr>\n",
              "      <th>4</th>\n",
              "      <td>0</td>\n",
              "      <td>0</td>\n",
              "      <td>1</td>\n",
              "      <td>0</td>\n",
              "      <td>0</td>\n",
              "      <td>0</td>\n",
              "      <td>0</td>\n",
              "      <td>0</td>\n",
              "    </tr>\n",
              "    <tr>\n",
              "      <th>5</th>\n",
              "      <td>0</td>\n",
              "      <td>0</td>\n",
              "      <td>0</td>\n",
              "      <td>0</td>\n",
              "      <td>0</td>\n",
              "      <td>1</td>\n",
              "      <td>0</td>\n",
              "      <td>0</td>\n",
              "    </tr>\n",
              "  </tbody>\n",
              "</table>\n",
              "</div>"
            ],
            "text/plain": [
              "   segment_B  segment_C  segment_D  segment_E  segment_F  segment_J  \\\n",
              "1          0          0          0          0          0          0   \n",
              "2          0          0          1          0          0          0   \n",
              "3          0          0          0          0          0          0   \n",
              "4          0          0          1          0          0          0   \n",
              "5          0          0          0          0          0          1   \n",
              "\n",
              "   segment_M  segment_S  \n",
              "1          1          0  \n",
              "2          0          0  \n",
              "3          0          0  \n",
              "4          0          0  \n",
              "5          0          0  "
            ]
          },
          "metadata": {
            "tags": []
          },
          "execution_count": 37
        }
      ]
    },
    {
      "cell_type": "markdown",
      "metadata": {
        "id": "MnRmfJ63eCO4"
      },
      "source": [
        "**Working for color**"
      ]
    },
    {
      "cell_type": "code",
      "metadata": {
        "colab": {
          "base_uri": "https://localhost:8080/"
        },
        "id": "lH_nBvfBdrCP",
        "outputId": "ff8240da-58c1-4fe8-ed67-1601299db645"
      },
      "source": [
        "color = df[['color']]\n",
        "color = pd.get_dummies(color,drop_first=True)\n",
        "color.head()"
      ],
      "execution_count": null,
      "outputs": [
        {
          "output_type": "execute_result",
          "data": {
            "text/html": [
              "<div>\n",
              "<style scoped>\n",
              "    .dataframe tbody tr th:only-of-type {\n",
              "        vertical-align: middle;\n",
              "    }\n",
              "\n",
              "    .dataframe tbody tr th {\n",
              "        vertical-align: top;\n",
              "    }\n",
              "\n",
              "    .dataframe thead th {\n",
              "        text-align: right;\n",
              "    }\n",
              "</style>\n",
              "<table border=\"1\" class=\"dataframe\">\n",
              "  <thead>\n",
              "    <tr style=\"text-align: right;\">\n",
              "      <th></th>\n",
              "      <th>color_blue</th>\n",
              "      <th>color_brown</th>\n",
              "      <th>color_burgundy</th>\n",
              "      <th>color_gray</th>\n",
              "      <th>color_green</th>\n",
              "      <th>color_orange</th>\n",
              "      <th>color_other</th>\n",
              "      <th>color_purple</th>\n",
              "      <th>color_red</th>\n",
              "      <th>color_silver</th>\n",
              "      <th>color_white</th>\n",
              "      <th>color_yellow</th>\n",
              "    </tr>\n",
              "  </thead>\n",
              "  <tbody>\n",
              "    <tr>\n",
              "      <th>1</th>\n",
              "      <td>0</td>\n",
              "      <td>0</td>\n",
              "      <td>0</td>\n",
              "      <td>0</td>\n",
              "      <td>0</td>\n",
              "      <td>0</td>\n",
              "      <td>0</td>\n",
              "      <td>0</td>\n",
              "      <td>0</td>\n",
              "      <td>1</td>\n",
              "      <td>0</td>\n",
              "      <td>0</td>\n",
              "    </tr>\n",
              "    <tr>\n",
              "      <th>2</th>\n",
              "      <td>0</td>\n",
              "      <td>0</td>\n",
              "      <td>0</td>\n",
              "      <td>0</td>\n",
              "      <td>0</td>\n",
              "      <td>0</td>\n",
              "      <td>0</td>\n",
              "      <td>1</td>\n",
              "      <td>0</td>\n",
              "      <td>0</td>\n",
              "      <td>0</td>\n",
              "      <td>0</td>\n",
              "    </tr>\n",
              "    <tr>\n",
              "      <th>3</th>\n",
              "      <td>1</td>\n",
              "      <td>0</td>\n",
              "      <td>0</td>\n",
              "      <td>0</td>\n",
              "      <td>0</td>\n",
              "      <td>0</td>\n",
              "      <td>0</td>\n",
              "      <td>0</td>\n",
              "      <td>0</td>\n",
              "      <td>0</td>\n",
              "      <td>0</td>\n",
              "      <td>0</td>\n",
              "    </tr>\n",
              "    <tr>\n",
              "      <th>4</th>\n",
              "      <td>0</td>\n",
              "      <td>0</td>\n",
              "      <td>1</td>\n",
              "      <td>0</td>\n",
              "      <td>0</td>\n",
              "      <td>0</td>\n",
              "      <td>0</td>\n",
              "      <td>0</td>\n",
              "      <td>0</td>\n",
              "      <td>0</td>\n",
              "      <td>0</td>\n",
              "      <td>0</td>\n",
              "    </tr>\n",
              "    <tr>\n",
              "      <th>5</th>\n",
              "      <td>0</td>\n",
              "      <td>0</td>\n",
              "      <td>0</td>\n",
              "      <td>0</td>\n",
              "      <td>0</td>\n",
              "      <td>0</td>\n",
              "      <td>0</td>\n",
              "      <td>0</td>\n",
              "      <td>0</td>\n",
              "      <td>0</td>\n",
              "      <td>0</td>\n",
              "      <td>0</td>\n",
              "    </tr>\n",
              "  </tbody>\n",
              "</table>\n",
              "</div>"
            ],
            "text/plain": [
              "   color_blue  color_brown  color_burgundy  color_gray  color_green  \\\n",
              "1           0            0               0           0            0   \n",
              "2           0            0               0           0            0   \n",
              "3           1            0               0           0            0   \n",
              "4           0            0               1           0            0   \n",
              "5           0            0               0           0            0   \n",
              "\n",
              "   color_orange  color_other  color_purple  color_red  color_silver  \\\n",
              "1             0            0             0          0             1   \n",
              "2             0            0             1          0             0   \n",
              "3             0            0             0          0             0   \n",
              "4             0            0             0          0             0   \n",
              "5             0            0             0          0             0   \n",
              "\n",
              "   color_white  color_yellow  \n",
              "1            0             0  \n",
              "2            0             0  \n",
              "3            0             0  \n",
              "4            0             0  \n",
              "5            0             0  "
            ]
          },
          "metadata": {
            "tags": []
          },
          "execution_count": 38
        }
      ]
    },
    {
      "cell_type": "markdown",
      "metadata": {
        "id": "XdTYftWXerLH"
      },
      "source": [
        "**Working for drive_unit**"
      ]
    },
    {
      "cell_type": "code",
      "metadata": {
        "colab": {
          "base_uri": "https://localhost:8080/"
        },
        "id": "dx2kZgWseojn",
        "outputId": "1a456359-bcc9-4ec3-8ef2-d362384befb6"
      },
      "source": [
        "drive_unit = df[['drive_unit']]\n",
        "drive_unit = pd.get_dummies(drive_unit,drop_first=True)\n",
        "drive_unit.head()"
      ],
      "execution_count": null,
      "outputs": [
        {
          "output_type": "execute_result",
          "data": {
            "text/html": [
              "<div>\n",
              "<style scoped>\n",
              "    .dataframe tbody tr th:only-of-type {\n",
              "        vertical-align: middle;\n",
              "    }\n",
              "\n",
              "    .dataframe tbody tr th {\n",
              "        vertical-align: top;\n",
              "    }\n",
              "\n",
              "    .dataframe thead th {\n",
              "        text-align: right;\n",
              "    }\n",
              "</style>\n",
              "<table border=\"1\" class=\"dataframe\">\n",
              "  <thead>\n",
              "    <tr style=\"text-align: right;\">\n",
              "      <th></th>\n",
              "      <th>drive_unit_front-wheel drive</th>\n",
              "      <th>drive_unit_part-time four-wheel drive</th>\n",
              "      <th>drive_unit_rear drive</th>\n",
              "    </tr>\n",
              "  </thead>\n",
              "  <tbody>\n",
              "    <tr>\n",
              "      <th>1</th>\n",
              "      <td>1</td>\n",
              "      <td>0</td>\n",
              "      <td>0</td>\n",
              "    </tr>\n",
              "    <tr>\n",
              "      <th>2</th>\n",
              "      <td>1</td>\n",
              "      <td>0</td>\n",
              "      <td>0</td>\n",
              "    </tr>\n",
              "    <tr>\n",
              "      <th>3</th>\n",
              "      <td>1</td>\n",
              "      <td>0</td>\n",
              "      <td>0</td>\n",
              "    </tr>\n",
              "    <tr>\n",
              "      <th>4</th>\n",
              "      <td>1</td>\n",
              "      <td>0</td>\n",
              "      <td>0</td>\n",
              "    </tr>\n",
              "    <tr>\n",
              "      <th>5</th>\n",
              "      <td>1</td>\n",
              "      <td>0</td>\n",
              "      <td>0</td>\n",
              "    </tr>\n",
              "  </tbody>\n",
              "</table>\n",
              "</div>"
            ],
            "text/plain": [
              "   drive_unit_front-wheel drive  drive_unit_part-time four-wheel drive  \\\n",
              "1                             1                                      0   \n",
              "2                             1                                      0   \n",
              "3                             1                                      0   \n",
              "4                             1                                      0   \n",
              "5                             1                                      0   \n",
              "\n",
              "   drive_unit_rear drive  \n",
              "1                      0  \n",
              "2                      0  \n",
              "3                      0  \n",
              "4                      0  \n",
              "5                      0  "
            ]
          },
          "metadata": {
            "tags": []
          },
          "execution_count": 39
        }
      ]
    },
    {
      "cell_type": "code",
      "metadata": {
        "colab": {
          "base_uri": "https://localhost:8080/"
        },
        "id": "c6YkthHKeJSy",
        "outputId": "84b1f1b5-a261-4c53-9a9e-389badd7eee2"
      },
      "source": [
        "final_df= pd.concat([df,condition,Fuel_t,Transmission,color,segment,drive_unit],axis=1)\n",
        "final_df.head()"
      ],
      "execution_count": null,
      "outputs": [
        {
          "output_type": "execute_result",
          "data": {
            "text/html": [
              "<div>\n",
              "<style scoped>\n",
              "    .dataframe tbody tr th:only-of-type {\n",
              "        vertical-align: middle;\n",
              "    }\n",
              "\n",
              "    .dataframe tbody tr th {\n",
              "        vertical-align: top;\n",
              "    }\n",
              "\n",
              "    .dataframe thead th {\n",
              "        text-align: right;\n",
              "    }\n",
              "</style>\n",
              "<table border=\"1\" class=\"dataframe\">\n",
              "  <thead>\n",
              "    <tr style=\"text-align: right;\">\n",
              "      <th></th>\n",
              "      <th>priceUSD</th>\n",
              "      <th>year</th>\n",
              "      <th>condition</th>\n",
              "      <th>mileage(kilometers)</th>\n",
              "      <th>fuel_type</th>\n",
              "      <th>volume(cm3)</th>\n",
              "      <th>color</th>\n",
              "      <th>transmission</th>\n",
              "      <th>drive_unit</th>\n",
              "      <th>segment</th>\n",
              "      <th>...</th>\n",
              "      <th>segment_C</th>\n",
              "      <th>segment_D</th>\n",
              "      <th>segment_E</th>\n",
              "      <th>segment_F</th>\n",
              "      <th>segment_J</th>\n",
              "      <th>segment_M</th>\n",
              "      <th>segment_S</th>\n",
              "      <th>drive_unit_front-wheel drive</th>\n",
              "      <th>drive_unit_part-time four-wheel drive</th>\n",
              "      <th>drive_unit_rear drive</th>\n",
              "    </tr>\n",
              "  </thead>\n",
              "  <tbody>\n",
              "    <tr>\n",
              "      <th>1</th>\n",
              "      <td>5550.0</td>\n",
              "      <td>2008.0</td>\n",
              "      <td>with mileage</td>\n",
              "      <td>172000.0</td>\n",
              "      <td>diesel</td>\n",
              "      <td>1400.0</td>\n",
              "      <td>silver</td>\n",
              "      <td>mechanics</td>\n",
              "      <td>front-wheel drive</td>\n",
              "      <td>M</td>\n",
              "      <td>...</td>\n",
              "      <td>0</td>\n",
              "      <td>0</td>\n",
              "      <td>0</td>\n",
              "      <td>0</td>\n",
              "      <td>0</td>\n",
              "      <td>1</td>\n",
              "      <td>0</td>\n",
              "      <td>1</td>\n",
              "      <td>0</td>\n",
              "      <td>0</td>\n",
              "    </tr>\n",
              "    <tr>\n",
              "      <th>2</th>\n",
              "      <td>8300.0</td>\n",
              "      <td>2008.0</td>\n",
              "      <td>with mileage</td>\n",
              "      <td>223000.0</td>\n",
              "      <td>petrol</td>\n",
              "      <td>2500.0</td>\n",
              "      <td>purple</td>\n",
              "      <td>auto</td>\n",
              "      <td>front-wheel drive</td>\n",
              "      <td>D</td>\n",
              "      <td>...</td>\n",
              "      <td>0</td>\n",
              "      <td>1</td>\n",
              "      <td>0</td>\n",
              "      <td>0</td>\n",
              "      <td>0</td>\n",
              "      <td>0</td>\n",
              "      <td>0</td>\n",
              "      <td>1</td>\n",
              "      <td>0</td>\n",
              "      <td>0</td>\n",
              "    </tr>\n",
              "    <tr>\n",
              "      <th>3</th>\n",
              "      <td>3300.0</td>\n",
              "      <td>2005.0</td>\n",
              "      <td>with mileage</td>\n",
              "      <td>140000.0</td>\n",
              "      <td>petrol</td>\n",
              "      <td>1200.0</td>\n",
              "      <td>blue</td>\n",
              "      <td>mechanics</td>\n",
              "      <td>front-wheel drive</td>\n",
              "      <td>A</td>\n",
              "      <td>...</td>\n",
              "      <td>0</td>\n",
              "      <td>0</td>\n",
              "      <td>0</td>\n",
              "      <td>0</td>\n",
              "      <td>0</td>\n",
              "      <td>0</td>\n",
              "      <td>0</td>\n",
              "      <td>1</td>\n",
              "      <td>0</td>\n",
              "      <td>0</td>\n",
              "    </tr>\n",
              "    <tr>\n",
              "      <th>4</th>\n",
              "      <td>2450.0</td>\n",
              "      <td>2002.0</td>\n",
              "      <td>with damage</td>\n",
              "      <td>413000.0</td>\n",
              "      <td>diesel</td>\n",
              "      <td>2200.0</td>\n",
              "      <td>burgundy</td>\n",
              "      <td>mechanics</td>\n",
              "      <td>front-wheel drive</td>\n",
              "      <td>D</td>\n",
              "      <td>...</td>\n",
              "      <td>0</td>\n",
              "      <td>1</td>\n",
              "      <td>0</td>\n",
              "      <td>0</td>\n",
              "      <td>0</td>\n",
              "      <td>0</td>\n",
              "      <td>0</td>\n",
              "      <td>1</td>\n",
              "      <td>0</td>\n",
              "      <td>0</td>\n",
              "    </tr>\n",
              "    <tr>\n",
              "      <th>5</th>\n",
              "      <td>18900.0</td>\n",
              "      <td>2016.0</td>\n",
              "      <td>with mileage</td>\n",
              "      <td>148000.0</td>\n",
              "      <td>diesel</td>\n",
              "      <td>1600.0</td>\n",
              "      <td>black</td>\n",
              "      <td>mechanics</td>\n",
              "      <td>front-wheel drive</td>\n",
              "      <td>J</td>\n",
              "      <td>...</td>\n",
              "      <td>0</td>\n",
              "      <td>0</td>\n",
              "      <td>0</td>\n",
              "      <td>0</td>\n",
              "      <td>1</td>\n",
              "      <td>0</td>\n",
              "      <td>0</td>\n",
              "      <td>1</td>\n",
              "      <td>0</td>\n",
              "      <td>0</td>\n",
              "    </tr>\n",
              "  </tbody>\n",
              "</table>\n",
              "<p>5 rows × 37 columns</p>\n",
              "</div>"
            ],
            "text/plain": [
              "   priceUSD    year     condition  mileage(kilometers) fuel_type  volume(cm3)  \\\n",
              "1    5550.0  2008.0  with mileage             172000.0    diesel       1400.0   \n",
              "2    8300.0  2008.0  with mileage             223000.0    petrol       2500.0   \n",
              "3    3300.0  2005.0  with mileage             140000.0    petrol       1200.0   \n",
              "4    2450.0  2002.0   with damage             413000.0    diesel       2200.0   \n",
              "5   18900.0  2016.0  with mileage             148000.0    diesel       1600.0   \n",
              "\n",
              "      color transmission         drive_unit segment          ...            \\\n",
              "1    silver    mechanics  front-wheel drive       M          ...             \n",
              "2    purple         auto  front-wheel drive       D          ...             \n",
              "3      blue    mechanics  front-wheel drive       A          ...             \n",
              "4  burgundy    mechanics  front-wheel drive       D          ...             \n",
              "5     black    mechanics  front-wheel drive       J          ...             \n",
              "\n",
              "   segment_C  segment_D  segment_E  segment_F  segment_J  segment_M  \\\n",
              "1          0          0          0          0          0          1   \n",
              "2          0          1          0          0          0          0   \n",
              "3          0          0          0          0          0          0   \n",
              "4          0          1          0          0          0          0   \n",
              "5          0          0          0          0          1          0   \n",
              "\n",
              "   segment_S  drive_unit_front-wheel drive  \\\n",
              "1          0                             1   \n",
              "2          0                             1   \n",
              "3          0                             1   \n",
              "4          0                             1   \n",
              "5          0                             1   \n",
              "\n",
              "   drive_unit_part-time four-wheel drive  drive_unit_rear drive  \n",
              "1                                      0                      0  \n",
              "2                                      0                      0  \n",
              "3                                      0                      0  \n",
              "4                                      0                      0  \n",
              "5                                      0                      0  \n",
              "\n",
              "[5 rows x 37 columns]"
            ]
          },
          "metadata": {
            "tags": []
          },
          "execution_count": 40
        }
      ]
    },
    {
      "cell_type": "code",
      "metadata": {
        "id": "pSbNZUYBfDWb"
      },
      "source": [
        "final_df.drop([\"condition\",\"fuel_type\",\"transmission\",\"color\",\"segment\",\"drive_unit\"],axis=1,inplace=True)"
      ],
      "execution_count": null,
      "outputs": []
    },
    {
      "cell_type": "code",
      "metadata": {
        "colab": {
          "base_uri": "https://localhost:8080/"
        },
        "id": "1ImeooWrfZa6",
        "outputId": "e8617ee4-f57d-467c-aa99-dfcdbdd0aaa8"
      },
      "source": [
        "final_df.head()"
      ],
      "execution_count": null,
      "outputs": [
        {
          "output_type": "execute_result",
          "data": {
            "text/html": [
              "<div>\n",
              "<style scoped>\n",
              "    .dataframe tbody tr th:only-of-type {\n",
              "        vertical-align: middle;\n",
              "    }\n",
              "\n",
              "    .dataframe tbody tr th {\n",
              "        vertical-align: top;\n",
              "    }\n",
              "\n",
              "    .dataframe thead th {\n",
              "        text-align: right;\n",
              "    }\n",
              "</style>\n",
              "<table border=\"1\" class=\"dataframe\">\n",
              "  <thead>\n",
              "    <tr style=\"text-align: right;\">\n",
              "      <th></th>\n",
              "      <th>priceUSD</th>\n",
              "      <th>year</th>\n",
              "      <th>mileage(kilometers)</th>\n",
              "      <th>volume(cm3)</th>\n",
              "      <th>condition_with damage</th>\n",
              "      <th>condition_with mileage</th>\n",
              "      <th>fuel_type_petrol</th>\n",
              "      <th>transmission_mechanics</th>\n",
              "      <th>color_blue</th>\n",
              "      <th>color_brown</th>\n",
              "      <th>...</th>\n",
              "      <th>segment_C</th>\n",
              "      <th>segment_D</th>\n",
              "      <th>segment_E</th>\n",
              "      <th>segment_F</th>\n",
              "      <th>segment_J</th>\n",
              "      <th>segment_M</th>\n",
              "      <th>segment_S</th>\n",
              "      <th>drive_unit_front-wheel drive</th>\n",
              "      <th>drive_unit_part-time four-wheel drive</th>\n",
              "      <th>drive_unit_rear drive</th>\n",
              "    </tr>\n",
              "  </thead>\n",
              "  <tbody>\n",
              "    <tr>\n",
              "      <th>1</th>\n",
              "      <td>5550.0</td>\n",
              "      <td>2008.0</td>\n",
              "      <td>172000.0</td>\n",
              "      <td>1400.0</td>\n",
              "      <td>0</td>\n",
              "      <td>1</td>\n",
              "      <td>0</td>\n",
              "      <td>1</td>\n",
              "      <td>0</td>\n",
              "      <td>0</td>\n",
              "      <td>...</td>\n",
              "      <td>0</td>\n",
              "      <td>0</td>\n",
              "      <td>0</td>\n",
              "      <td>0</td>\n",
              "      <td>0</td>\n",
              "      <td>1</td>\n",
              "      <td>0</td>\n",
              "      <td>1</td>\n",
              "      <td>0</td>\n",
              "      <td>0</td>\n",
              "    </tr>\n",
              "    <tr>\n",
              "      <th>2</th>\n",
              "      <td>8300.0</td>\n",
              "      <td>2008.0</td>\n",
              "      <td>223000.0</td>\n",
              "      <td>2500.0</td>\n",
              "      <td>0</td>\n",
              "      <td>1</td>\n",
              "      <td>1</td>\n",
              "      <td>0</td>\n",
              "      <td>0</td>\n",
              "      <td>0</td>\n",
              "      <td>...</td>\n",
              "      <td>0</td>\n",
              "      <td>1</td>\n",
              "      <td>0</td>\n",
              "      <td>0</td>\n",
              "      <td>0</td>\n",
              "      <td>0</td>\n",
              "      <td>0</td>\n",
              "      <td>1</td>\n",
              "      <td>0</td>\n",
              "      <td>0</td>\n",
              "    </tr>\n",
              "    <tr>\n",
              "      <th>3</th>\n",
              "      <td>3300.0</td>\n",
              "      <td>2005.0</td>\n",
              "      <td>140000.0</td>\n",
              "      <td>1200.0</td>\n",
              "      <td>0</td>\n",
              "      <td>1</td>\n",
              "      <td>1</td>\n",
              "      <td>1</td>\n",
              "      <td>1</td>\n",
              "      <td>0</td>\n",
              "      <td>...</td>\n",
              "      <td>0</td>\n",
              "      <td>0</td>\n",
              "      <td>0</td>\n",
              "      <td>0</td>\n",
              "      <td>0</td>\n",
              "      <td>0</td>\n",
              "      <td>0</td>\n",
              "      <td>1</td>\n",
              "      <td>0</td>\n",
              "      <td>0</td>\n",
              "    </tr>\n",
              "    <tr>\n",
              "      <th>4</th>\n",
              "      <td>2450.0</td>\n",
              "      <td>2002.0</td>\n",
              "      <td>413000.0</td>\n",
              "      <td>2200.0</td>\n",
              "      <td>1</td>\n",
              "      <td>0</td>\n",
              "      <td>0</td>\n",
              "      <td>1</td>\n",
              "      <td>0</td>\n",
              "      <td>0</td>\n",
              "      <td>...</td>\n",
              "      <td>0</td>\n",
              "      <td>1</td>\n",
              "      <td>0</td>\n",
              "      <td>0</td>\n",
              "      <td>0</td>\n",
              "      <td>0</td>\n",
              "      <td>0</td>\n",
              "      <td>1</td>\n",
              "      <td>0</td>\n",
              "      <td>0</td>\n",
              "    </tr>\n",
              "    <tr>\n",
              "      <th>5</th>\n",
              "      <td>18900.0</td>\n",
              "      <td>2016.0</td>\n",
              "      <td>148000.0</td>\n",
              "      <td>1600.0</td>\n",
              "      <td>0</td>\n",
              "      <td>1</td>\n",
              "      <td>0</td>\n",
              "      <td>1</td>\n",
              "      <td>0</td>\n",
              "      <td>0</td>\n",
              "      <td>...</td>\n",
              "      <td>0</td>\n",
              "      <td>0</td>\n",
              "      <td>0</td>\n",
              "      <td>0</td>\n",
              "      <td>1</td>\n",
              "      <td>0</td>\n",
              "      <td>0</td>\n",
              "      <td>1</td>\n",
              "      <td>0</td>\n",
              "      <td>0</td>\n",
              "    </tr>\n",
              "  </tbody>\n",
              "</table>\n",
              "<p>5 rows × 31 columns</p>\n",
              "</div>"
            ],
            "text/plain": [
              "   priceUSD    year  mileage(kilometers)  volume(cm3)  condition_with damage  \\\n",
              "1    5550.0  2008.0             172000.0       1400.0                      0   \n",
              "2    8300.0  2008.0             223000.0       2500.0                      0   \n",
              "3    3300.0  2005.0             140000.0       1200.0                      0   \n",
              "4    2450.0  2002.0             413000.0       2200.0                      1   \n",
              "5   18900.0  2016.0             148000.0       1600.0                      0   \n",
              "\n",
              "   condition_with mileage  fuel_type_petrol  transmission_mechanics  \\\n",
              "1                       1                 0                       1   \n",
              "2                       1                 1                       0   \n",
              "3                       1                 1                       1   \n",
              "4                       0                 0                       1   \n",
              "5                       1                 0                       1   \n",
              "\n",
              "   color_blue  color_brown          ...            segment_C  segment_D  \\\n",
              "1           0            0          ...                    0          0   \n",
              "2           0            0          ...                    0          1   \n",
              "3           1            0          ...                    0          0   \n",
              "4           0            0          ...                    0          1   \n",
              "5           0            0          ...                    0          0   \n",
              "\n",
              "   segment_E  segment_F  segment_J  segment_M  segment_S  \\\n",
              "1          0          0          0          1          0   \n",
              "2          0          0          0          0          0   \n",
              "3          0          0          0          0          0   \n",
              "4          0          0          0          0          0   \n",
              "5          0          0          1          0          0   \n",
              "\n",
              "   drive_unit_front-wheel drive  drive_unit_part-time four-wheel drive  \\\n",
              "1                             1                                      0   \n",
              "2                             1                                      0   \n",
              "3                             1                                      0   \n",
              "4                             1                                      0   \n",
              "5                             1                                      0   \n",
              "\n",
              "   drive_unit_rear drive  \n",
              "1                      0  \n",
              "2                      0  \n",
              "3                      0  \n",
              "4                      0  \n",
              "5                      0  \n",
              "\n",
              "[5 rows x 31 columns]"
            ]
          },
          "metadata": {
            "tags": []
          },
          "execution_count": 42
        }
      ]
    },
    {
      "cell_type": "code",
      "metadata": {
        "colab": {
          "base_uri": "https://localhost:8080/"
        },
        "id": "ROjES9jqpLMW",
        "outputId": "c83cce05-30ad-4ec3-afb3-172f0a26efb3"
      },
      "source": [
        "X = final_df.iloc[:,1:]\n",
        "X.head()"
      ],
      "execution_count": null,
      "outputs": [
        {
          "output_type": "execute_result",
          "data": {
            "text/html": [
              "<div>\n",
              "<style scoped>\n",
              "    .dataframe tbody tr th:only-of-type {\n",
              "        vertical-align: middle;\n",
              "    }\n",
              "\n",
              "    .dataframe tbody tr th {\n",
              "        vertical-align: top;\n",
              "    }\n",
              "\n",
              "    .dataframe thead th {\n",
              "        text-align: right;\n",
              "    }\n",
              "</style>\n",
              "<table border=\"1\" class=\"dataframe\">\n",
              "  <thead>\n",
              "    <tr style=\"text-align: right;\">\n",
              "      <th></th>\n",
              "      <th>year</th>\n",
              "      <th>mileage(kilometers)</th>\n",
              "      <th>volume(cm3)</th>\n",
              "      <th>condition_with damage</th>\n",
              "      <th>condition_with mileage</th>\n",
              "      <th>fuel_type_petrol</th>\n",
              "      <th>transmission_mechanics</th>\n",
              "      <th>color_blue</th>\n",
              "      <th>color_brown</th>\n",
              "      <th>color_burgundy</th>\n",
              "      <th>...</th>\n",
              "      <th>segment_C</th>\n",
              "      <th>segment_D</th>\n",
              "      <th>segment_E</th>\n",
              "      <th>segment_F</th>\n",
              "      <th>segment_J</th>\n",
              "      <th>segment_M</th>\n",
              "      <th>segment_S</th>\n",
              "      <th>drive_unit_front-wheel drive</th>\n",
              "      <th>drive_unit_part-time four-wheel drive</th>\n",
              "      <th>drive_unit_rear drive</th>\n",
              "    </tr>\n",
              "  </thead>\n",
              "  <tbody>\n",
              "    <tr>\n",
              "      <th>1</th>\n",
              "      <td>2008.0</td>\n",
              "      <td>172000.0</td>\n",
              "      <td>1400.0</td>\n",
              "      <td>0</td>\n",
              "      <td>1</td>\n",
              "      <td>0</td>\n",
              "      <td>1</td>\n",
              "      <td>0</td>\n",
              "      <td>0</td>\n",
              "      <td>0</td>\n",
              "      <td>...</td>\n",
              "      <td>0</td>\n",
              "      <td>0</td>\n",
              "      <td>0</td>\n",
              "      <td>0</td>\n",
              "      <td>0</td>\n",
              "      <td>1</td>\n",
              "      <td>0</td>\n",
              "      <td>1</td>\n",
              "      <td>0</td>\n",
              "      <td>0</td>\n",
              "    </tr>\n",
              "    <tr>\n",
              "      <th>2</th>\n",
              "      <td>2008.0</td>\n",
              "      <td>223000.0</td>\n",
              "      <td>2500.0</td>\n",
              "      <td>0</td>\n",
              "      <td>1</td>\n",
              "      <td>1</td>\n",
              "      <td>0</td>\n",
              "      <td>0</td>\n",
              "      <td>0</td>\n",
              "      <td>0</td>\n",
              "      <td>...</td>\n",
              "      <td>0</td>\n",
              "      <td>1</td>\n",
              "      <td>0</td>\n",
              "      <td>0</td>\n",
              "      <td>0</td>\n",
              "      <td>0</td>\n",
              "      <td>0</td>\n",
              "      <td>1</td>\n",
              "      <td>0</td>\n",
              "      <td>0</td>\n",
              "    </tr>\n",
              "    <tr>\n",
              "      <th>3</th>\n",
              "      <td>2005.0</td>\n",
              "      <td>140000.0</td>\n",
              "      <td>1200.0</td>\n",
              "      <td>0</td>\n",
              "      <td>1</td>\n",
              "      <td>1</td>\n",
              "      <td>1</td>\n",
              "      <td>1</td>\n",
              "      <td>0</td>\n",
              "      <td>0</td>\n",
              "      <td>...</td>\n",
              "      <td>0</td>\n",
              "      <td>0</td>\n",
              "      <td>0</td>\n",
              "      <td>0</td>\n",
              "      <td>0</td>\n",
              "      <td>0</td>\n",
              "      <td>0</td>\n",
              "      <td>1</td>\n",
              "      <td>0</td>\n",
              "      <td>0</td>\n",
              "    </tr>\n",
              "    <tr>\n",
              "      <th>4</th>\n",
              "      <td>2002.0</td>\n",
              "      <td>413000.0</td>\n",
              "      <td>2200.0</td>\n",
              "      <td>1</td>\n",
              "      <td>0</td>\n",
              "      <td>0</td>\n",
              "      <td>1</td>\n",
              "      <td>0</td>\n",
              "      <td>0</td>\n",
              "      <td>1</td>\n",
              "      <td>...</td>\n",
              "      <td>0</td>\n",
              "      <td>1</td>\n",
              "      <td>0</td>\n",
              "      <td>0</td>\n",
              "      <td>0</td>\n",
              "      <td>0</td>\n",
              "      <td>0</td>\n",
              "      <td>1</td>\n",
              "      <td>0</td>\n",
              "      <td>0</td>\n",
              "    </tr>\n",
              "    <tr>\n",
              "      <th>5</th>\n",
              "      <td>2016.0</td>\n",
              "      <td>148000.0</td>\n",
              "      <td>1600.0</td>\n",
              "      <td>0</td>\n",
              "      <td>1</td>\n",
              "      <td>0</td>\n",
              "      <td>1</td>\n",
              "      <td>0</td>\n",
              "      <td>0</td>\n",
              "      <td>0</td>\n",
              "      <td>...</td>\n",
              "      <td>0</td>\n",
              "      <td>0</td>\n",
              "      <td>0</td>\n",
              "      <td>0</td>\n",
              "      <td>1</td>\n",
              "      <td>0</td>\n",
              "      <td>0</td>\n",
              "      <td>1</td>\n",
              "      <td>0</td>\n",
              "      <td>0</td>\n",
              "    </tr>\n",
              "  </tbody>\n",
              "</table>\n",
              "<p>5 rows × 30 columns</p>\n",
              "</div>"
            ],
            "text/plain": [
              "     year  mileage(kilometers)  volume(cm3)  condition_with damage  \\\n",
              "1  2008.0             172000.0       1400.0                      0   \n",
              "2  2008.0             223000.0       2500.0                      0   \n",
              "3  2005.0             140000.0       1200.0                      0   \n",
              "4  2002.0             413000.0       2200.0                      1   \n",
              "5  2016.0             148000.0       1600.0                      0   \n",
              "\n",
              "   condition_with mileage  fuel_type_petrol  transmission_mechanics  \\\n",
              "1                       1                 0                       1   \n",
              "2                       1                 1                       0   \n",
              "3                       1                 1                       1   \n",
              "4                       0                 0                       1   \n",
              "5                       1                 0                       1   \n",
              "\n",
              "   color_blue  color_brown  color_burgundy          ...            segment_C  \\\n",
              "1           0            0               0          ...                    0   \n",
              "2           0            0               0          ...                    0   \n",
              "3           1            0               0          ...                    0   \n",
              "4           0            0               1          ...                    0   \n",
              "5           0            0               0          ...                    0   \n",
              "\n",
              "   segment_D  segment_E  segment_F  segment_J  segment_M  segment_S  \\\n",
              "1          0          0          0          0          1          0   \n",
              "2          1          0          0          0          0          0   \n",
              "3          0          0          0          0          0          0   \n",
              "4          1          0          0          0          0          0   \n",
              "5          0          0          0          1          0          0   \n",
              "\n",
              "   drive_unit_front-wheel drive  drive_unit_part-time four-wheel drive  \\\n",
              "1                             1                                      0   \n",
              "2                             1                                      0   \n",
              "3                             1                                      0   \n",
              "4                             1                                      0   \n",
              "5                             1                                      0   \n",
              "\n",
              "   drive_unit_rear drive  \n",
              "1                      0  \n",
              "2                      0  \n",
              "3                      0  \n",
              "4                      0  \n",
              "5                      0  \n",
              "\n",
              "[5 rows x 30 columns]"
            ]
          },
          "metadata": {
            "tags": []
          },
          "execution_count": 43
        }
      ]
    },
    {
      "cell_type": "code",
      "metadata": {
        "colab": {
          "base_uri": "https://localhost:8080/"
        },
        "id": "t-7DXnAgfk8F",
        "outputId": "c0ce0c17-b27e-4d69-b26c-68c314f3d847"
      },
      "source": [
        "y = final_df.iloc[:,[0]]\n",
        "y.head()"
      ],
      "execution_count": null,
      "outputs": [
        {
          "output_type": "execute_result",
          "data": {
            "text/html": [
              "<div>\n",
              "<style scoped>\n",
              "    .dataframe tbody tr th:only-of-type {\n",
              "        vertical-align: middle;\n",
              "    }\n",
              "\n",
              "    .dataframe tbody tr th {\n",
              "        vertical-align: top;\n",
              "    }\n",
              "\n",
              "    .dataframe thead th {\n",
              "        text-align: right;\n",
              "    }\n",
              "</style>\n",
              "<table border=\"1\" class=\"dataframe\">\n",
              "  <thead>\n",
              "    <tr style=\"text-align: right;\">\n",
              "      <th></th>\n",
              "      <th>priceUSD</th>\n",
              "    </tr>\n",
              "  </thead>\n",
              "  <tbody>\n",
              "    <tr>\n",
              "      <th>1</th>\n",
              "      <td>5550.0</td>\n",
              "    </tr>\n",
              "    <tr>\n",
              "      <th>2</th>\n",
              "      <td>8300.0</td>\n",
              "    </tr>\n",
              "    <tr>\n",
              "      <th>3</th>\n",
              "      <td>3300.0</td>\n",
              "    </tr>\n",
              "    <tr>\n",
              "      <th>4</th>\n",
              "      <td>2450.0</td>\n",
              "    </tr>\n",
              "    <tr>\n",
              "      <th>5</th>\n",
              "      <td>18900.0</td>\n",
              "    </tr>\n",
              "  </tbody>\n",
              "</table>\n",
              "</div>"
            ],
            "text/plain": [
              "   priceUSD\n",
              "1    5550.0\n",
              "2    8300.0\n",
              "3    3300.0\n",
              "4    2450.0\n",
              "5   18900.0"
            ]
          },
          "metadata": {
            "tags": []
          },
          "execution_count": 44
        }
      ]
    },
    {
      "cell_type": "markdown",
      "metadata": {
        "id": "vSdM99ibt5eF"
      },
      "source": [
        "## **Machine learning models**\n",
        "First we are spliting the data to train and test for the model"
      ]
    },
    {
      "cell_type": "code",
      "metadata": {
        "id": "avbQ2D7GsDsr"
      },
      "source": [
        "from sklearn.model_selection import train_test_split\n",
        "X_train,X_test,y_train,y_test = train_test_split(X,y,test_size=0.2,random_state=42)"
      ],
      "execution_count": null,
      "outputs": []
    },
    {
      "cell_type": "code",
      "metadata": {
        "id": "hP9FPiqr1h19"
      },
      "source": [
        "# from sklearn import preprocessing\n",
        "# mm_scaler = preprocessing.MinMaxScaler()\n",
        "# X_train = mm_scaler.fit_transform(X_train)\n",
        "# X_test =mm_scaler.transform(X_test)                      # comment the feature scaling section because it does not help to increase accuracy,\n",
        "                                                           #if you want to use ,please uncomment and run"
      ],
      "execution_count": null,
      "outputs": []
    },
    {
      "cell_type": "markdown",
      "metadata": {
        "id": "watRLTkGxg1p"
      },
      "source": [
        "**Linear regression**"
      ]
    },
    {
      "cell_type": "code",
      "metadata": {
        "colab": {
          "base_uri": "https://localhost:8080/"
        },
        "id": "jGsjzfPstaHo",
        "outputId": "deec10bc-da28-44ff-880b-2dda40ac055a"
      },
      "source": [
        "linear_reg = LinearRegression()\n",
        "linear_reg.fit(X_train, y_train)\n",
        "y_pred= linear_reg.predict(X_test)\n",
        "\n",
        "print(\"\\t\\tError Table\")\n",
        "print('Mean Absolute Error      : ', mean_absolute_error(y_test, y_pred))\n",
        "print('Mean Squared  Error      : ', mean_squared_error(y_test, y_pred))\n",
        "print('Root Mean Squared  Error : ', np.sqrt(mean_squared_error(y_test, y_pred)))\n",
        "print('R Squared           : ', r2_score(y_test, y_pred))"
      ],
      "execution_count": null,
      "outputs": [
        {
          "output_type": "stream",
          "text": [
            "\t\tError Table\n",
            "Mean Absolute Error      :  1632.648622172583\n",
            "Mean Squared  Error      :  4757383.325634388\n",
            "Root Mean Squared  Error :  2181.1426651263296\n",
            "R Squared           :  0.7775104172286407\n"
          ],
          "name": "stdout"
        }
      ]
    },
    {
      "cell_type": "markdown",
      "metadata": {
        "id": "V685OuQWzXWv"
      },
      "source": [
        "Not a good score, let's try something more better.\n",
        "\n",
        "Now I am using  ExtraTrees Regressor and Random Forest Regressor (obviously for better accuracy)\n",
        "\n",
        "\n",
        "**ExtraTrees Regressor**"
      ]
    },
    {
      "cell_type": "code",
      "metadata": {
        "colab": {
          "base_uri": "https://localhost:8080/"
        },
        "id": "b1Xf90LrpwQT",
        "outputId": "cafb9513-f5ba-494c-b6d4-35f692c37112"
      },
      "source": [
        "ext_reg = ExtraTreesRegressor()\n",
        "ext_reg.fit(X_train, y_train)\n",
        "y_pred= ext_reg.predict(X_test)\n",
        "\n",
        "print(\"\\t\\tError Table\")\n",
        "print('Mean Absolute Error      : ', mean_absolute_error(y_test, y_pred))\n",
        "print('Mean Squared  Error      : ', mean_squared_error(y_test, y_pred))\n",
        "print('Root Mean Squared  Error : ', np.sqrt(mean_squared_error(y_test, y_pred)))\n",
        "print('R Squared           : ', r2_score(y_test, y_pred))"
      ],
      "execution_count": null,
      "outputs": [
        {
          "output_type": "stream",
          "text": [
            "C:\\Users\\Code_love_r\\Anaconda3\\lib\\site-packages\\ipykernel_launcher.py:2: DataConversionWarning: A column-vector y was passed when a 1d array was expected. Please change the shape of y to (n_samples,), for example using ravel().\n",
            "  \n"
          ],
          "name": "stderr"
        },
        {
          "output_type": "stream",
          "text": [
            "\t\tError Table\n",
            "Mean Absolute Error      :  1087.5910742716128\n",
            "Mean Squared  Error      :  2467912.460573866\n",
            "Root Mean Squared  Error :  1570.9590894017151\n",
            "R Squared           :  0.8845826001216543\n"
          ],
          "name": "stdout"
        }
      ]
    },
    {
      "cell_type": "markdown",
      "metadata": {
        "id": "_MFxEripxvWK"
      },
      "source": [
        "**Random Forest**"
      ]
    },
    {
      "cell_type": "code",
      "metadata": {
        "colab": {
          "base_uri": "https://localhost:8080/"
        },
        "id": "O1WKwJh7uh1M",
        "outputId": "587a70fc-8774-4bfd-bff3-6a118115001f"
      },
      "source": [
        "rf_reg = RandomForestRegressor()\n",
        "rf_reg.fit(X_train, y_train)\n",
        "y_pred= rf_reg.predict(X_test)\n",
        "\n",
        "print(\"\\t\\tError Table\")\n",
        "print('Mean Absolute Error      : ', mean_absolute_error(y_test, y_pred))\n",
        "print('Mean Squared  Error      : ', mean_squared_error(y_test, y_pred))\n",
        "print('Root Mean Squared  Error : ', np.sqrt(mean_squared_error(y_test, y_pred)))\n",
        "print('R Squared           : ', r2_score(y_test, y_pred))"
      ],
      "execution_count": null,
      "outputs": [
        {
          "output_type": "stream",
          "text": [
            "C:\\Users\\Code_love_r\\Anaconda3\\lib\\site-packages\\ipykernel_launcher.py:2: DataConversionWarning: A column-vector y was passed when a 1d array was expected. Please change the shape of y to (n_samples,), for example using ravel().\n",
            "  \n"
          ],
          "name": "stderr"
        },
        {
          "output_type": "stream",
          "text": [
            "\t\tError Table\n",
            "Mean Absolute Error      :  1016.1789399189544\n",
            "Mean Squared  Error      :  2124343.4489508905\n",
            "Root Mean Squared  Error :  1457.512761162279\n",
            "R Squared           :  0.9006503669625723\n"
          ],
          "name": "stdout"
        }
      ]
    },
    {
      "cell_type": "markdown",
      "metadata": {
        "id": "MZ1u7U30zc_o"
      },
      "source": [
        "0.9 is a Good R2 Score"
      ]
    },
    {
      "cell_type": "code",
      "metadata": {
        "id": "aYRrhgC5XVaw"
      },
      "source": [
        "#joblib.dump(rf_reg, 'filename.pkl') \n",
        "pickle.dump(linear_reg, open('model.pkl','wb'))"
      ],
      "execution_count": null,
      "outputs": []
    },
    {
      "cell_type": "code",
      "metadata": {
        "id": "r2Tg-nkoXVax"
      },
      "source": [
        "#model1 = joblib.load('filename.pkl')  \n",
        "model1 = pickle.load((open('model.pkl','rb')))"
      ],
      "execution_count": null,
      "outputs": []
    },
    {
      "cell_type": "code",
      "metadata": {
        "id": "KjjgXrVJXVax",
        "outputId": "1352074f-09b9-4a80-dca7-a88339742721"
      },
      "source": [
        "model1.predict(X_test)"
      ],
      "execution_count": null,
      "outputs": [
        {
          "output_type": "execute_result",
          "data": {
            "text/plain": [
              "array([[ 6041.57757638],\n",
              "       [15072.8365593 ],\n",
              "       [10714.05355203],\n",
              "       ...,\n",
              "       [ 7856.72208442],\n",
              "       [ 3080.5770542 ],\n",
              "       [ 2529.0859678 ]])"
            ]
          },
          "metadata": {
            "tags": []
          },
          "execution_count": 50
        }
      ]
    },
    {
      "cell_type": "markdown",
      "metadata": {
        "id": "gGHS_N-tt2yN"
      },
      "source": [
        "## **Feature Selection using p-value**"
      ]
    },
    {
      "cell_type": "markdown",
      "metadata": {
        "id": "zmLOQS9xuD4N"
      },
      "source": [
        "So in Regression very frequently used techniques for feature selection are as following:\n",
        "\n",
        "\n",
        "*   Stepwise Regression\n",
        "*   Forward Selection\n",
        "*   Backward Elimination\n",
        "\n",
        "I will use Backward elimination in this case.\n",
        "In backward elimination in the first step we include all predictors and in subsequent steps, keep on removing the one which has the highest p-value (>.05 the threshold limit). after a few iterations, it will produce the final set of features which are enough significant to predict the outcome with the desired accuracy."
      ]
    },
    {
      "cell_type": "code",
      "metadata": {
        "colab": {
          "base_uri": "https://localhost:8080/"
        },
        "id": "zSntGhpiko7v",
        "outputId": "7280e9ce-6e68-4028-8ad7-de7dc7e2f369"
      },
      "source": [
        "final_df.columns"
      ],
      "execution_count": null,
      "outputs": [
        {
          "output_type": "execute_result",
          "data": {
            "text/plain": [
              "Index(['priceUSD', 'year', 'mileage(kilometers)', 'volume(cm3)',\n",
              "       'condition_with damage', 'condition_with mileage', 'fuel_type_petrol',\n",
              "       'transmission_mechanics', 'color_blue', 'color_brown', 'color_burgundy',\n",
              "       'color_gray', 'color_green', 'color_orange', 'color_other',\n",
              "       'color_purple', 'color_red', 'color_silver', 'color_white',\n",
              "       'color_yellow', 'segment_B', 'segment_C', 'segment_D', 'segment_E',\n",
              "       'segment_F', 'segment_J', 'segment_M', 'segment_S',\n",
              "       'drive_unit_front-wheel drive', 'drive_unit_part-time four-wheel drive',\n",
              "       'drive_unit_rear drive'],\n",
              "      dtype='object')"
            ]
          },
          "metadata": {
            "tags": []
          },
          "execution_count": 51
        }
      ]
    },
    {
      "cell_type": "code",
      "metadata": {
        "colab": {
          "base_uri": "https://localhost:8080/",
          "height": 1000
        },
        "id": "62_2pxXxhs_d",
        "outputId": "d2e4e785-9710-4425-f109-74b575083501"
      },
      "source": [
        "X_opt = X.values\n",
        "regressor_OLS = sm.OLS(endog = y.values, exog = X_opt).fit()\n",
        "regressor_OLS.summary()"
      ],
      "execution_count": null,
      "outputs": [
        {
          "output_type": "execute_result",
          "data": {
            "text/html": [
              "<table class=\"simpletable\">\n",
              "<caption>OLS Regression Results</caption>\n",
              "<tr>\n",
              "  <th>Dep. Variable:</th>            <td>y</td>        <th>  R-squared:         </th>  <td>   0.682</td>  \n",
              "</tr>\n",
              "<tr>\n",
              "  <th>Model:</th>                   <td>OLS</td>       <th>  Adj. R-squared:    </th>  <td>   0.682</td>  \n",
              "</tr>\n",
              "<tr>\n",
              "  <th>Method:</th>             <td>Least Squares</td>  <th>  F-statistic:       </th>  <td>   2503.</td>  \n",
              "</tr>\n",
              "<tr>\n",
              "  <th>Date:</th>             <td>Mon, 18 Jan 2021</td> <th>  Prob (F-statistic):</th>   <td>  0.00</td>   \n",
              "</tr>\n",
              "<tr>\n",
              "  <th>Time:</th>                 <td>17:41:48</td>     <th>  Log-Likelihood:    </th> <td>-3.5420e+05</td>\n",
              "</tr>\n",
              "<tr>\n",
              "  <th>No. Observations:</th>      <td> 34971</td>      <th>  AIC:               </th>  <td>7.085e+05</td> \n",
              "</tr>\n",
              "<tr>\n",
              "  <th>Df Residuals:</th>          <td> 34941</td>      <th>  BIC:               </th>  <td>7.087e+05</td> \n",
              "</tr>\n",
              "<tr>\n",
              "  <th>Df Model:</th>              <td>    30</td>      <th>                     </th>      <td> </td>     \n",
              "</tr>\n",
              "<tr>\n",
              "  <th>Covariance Type:</th>      <td>nonrobust</td>    <th>                     </th>      <td> </td>     \n",
              "</tr>\n",
              "</table>\n",
              "<table class=\"simpletable\">\n",
              "<tr>\n",
              "   <td></td>      <th>coef</th>     <th>std err</th>      <th>t</th>      <th>P>|t|</th>  <th>[0.025</th>    <th>0.975]</th>  \n",
              "</tr>\n",
              "<tr>\n",
              "  <th>x1</th>  <td>    8.0060</td> <td>    0.272</td> <td>   29.456</td> <td> 0.000</td> <td>    7.473</td> <td>    8.539</td>\n",
              "</tr>\n",
              "<tr>\n",
              "  <th>x2</th>  <td>   -0.0029</td> <td>    0.000</td> <td>  -27.356</td> <td> 0.000</td> <td>   -0.003</td> <td>   -0.003</td>\n",
              "</tr>\n",
              "<tr>\n",
              "  <th>x3</th>  <td>    0.1330</td> <td>    0.043</td> <td>    3.129</td> <td> 0.002</td> <td>    0.050</td> <td>    0.216</td>\n",
              "</tr>\n",
              "<tr>\n",
              "  <th>x4</th>  <td>-1412.8040</td> <td>  531.210</td> <td>   -2.660</td> <td> 0.008</td> <td>-2453.993</td> <td> -371.615</td>\n",
              "</tr>\n",
              "<tr>\n",
              "  <th>x5</th>  <td> 1549.7229</td> <td>  380.806</td> <td>    4.070</td> <td> 0.000</td> <td>  803.330</td> <td> 2296.116</td>\n",
              "</tr>\n",
              "<tr>\n",
              "  <th>x6</th>  <td>-1926.2565</td> <td>   71.358</td> <td>  -26.994</td> <td> 0.000</td> <td>-2066.121</td> <td>-1786.392</td>\n",
              "</tr>\n",
              "<tr>\n",
              "  <th>x7</th>  <td>-4488.2411</td> <td>   81.102</td> <td>  -55.341</td> <td> 0.000</td> <td>-4647.203</td> <td>-4329.279</td>\n",
              "</tr>\n",
              "<tr>\n",
              "  <th>x8</th>  <td>-2444.2196</td> <td>  112.624</td> <td>  -21.703</td> <td> 0.000</td> <td>-2664.965</td> <td>-2223.474</td>\n",
              "</tr>\n",
              "<tr>\n",
              "  <th>x9</th>  <td> 1716.6580</td> <td>  224.828</td> <td>    7.635</td> <td> 0.000</td> <td> 1275.989</td> <td> 2157.328</td>\n",
              "</tr>\n",
              "<tr>\n",
              "  <th>x10</th> <td>-3095.8859</td> <td>  185.854</td> <td>  -16.658</td> <td> 0.000</td> <td>-3460.166</td> <td>-2731.606</td>\n",
              "</tr>\n",
              "<tr>\n",
              "  <th>x11</th> <td> -846.5347</td> <td>  122.945</td> <td>   -6.885</td> <td> 0.000</td> <td>-1087.511</td> <td> -605.559</td>\n",
              "</tr>\n",
              "<tr>\n",
              "  <th>x12</th> <td>-3830.7400</td> <td>  145.592</td> <td>  -26.312</td> <td> 0.000</td> <td>-4116.104</td> <td>-3545.376</td>\n",
              "</tr>\n",
              "<tr>\n",
              "  <th>x13</th> <td>-1655.3790</td> <td>  561.533</td> <td>   -2.948</td> <td> 0.003</td> <td>-2756.001</td> <td> -554.757</td>\n",
              "</tr>\n",
              "<tr>\n",
              "  <th>x14</th> <td>-1946.4219</td> <td>  151.911</td> <td>  -12.813</td> <td> 0.000</td> <td>-2244.172</td> <td>-1648.672</td>\n",
              "</tr>\n",
              "<tr>\n",
              "  <th>x15</th> <td>-3125.3156</td> <td>  315.329</td> <td>   -9.911</td> <td> 0.000</td> <td>-3743.370</td> <td>-2507.261</td>\n",
              "</tr>\n",
              "<tr>\n",
              "  <th>x16</th> <td>-2350.5326</td> <td>  167.345</td> <td>  -14.046</td> <td> 0.000</td> <td>-2678.534</td> <td>-2022.531</td>\n",
              "</tr>\n",
              "<tr>\n",
              "  <th>x17</th> <td>-2335.8389</td> <td>  104.535</td> <td>  -22.345</td> <td> 0.000</td> <td>-2540.731</td> <td>-2130.947</td>\n",
              "</tr>\n",
              "<tr>\n",
              "  <th>x18</th> <td>  184.0600</td> <td>  127.756</td> <td>    1.441</td> <td> 0.150</td> <td>  -66.345</td> <td>  434.465</td>\n",
              "</tr>\n",
              "<tr>\n",
              "  <th>x19</th> <td>-1553.0026</td> <td>  472.111</td> <td>   -3.289</td> <td> 0.001</td> <td>-2478.356</td> <td> -627.649</td>\n",
              "</tr>\n",
              "<tr>\n",
              "  <th>x20</th> <td> -835.4951</td> <td>  360.161</td> <td>   -2.320</td> <td> 0.020</td> <td>-1541.423</td> <td> -129.567</td>\n",
              "</tr>\n",
              "<tr>\n",
              "  <th>x21</th> <td> -806.1668</td> <td>  350.003</td> <td>   -2.303</td> <td> 0.021</td> <td>-1492.184</td> <td> -120.150</td>\n",
              "</tr>\n",
              "<tr>\n",
              "  <th>x22</th> <td> -718.8630</td> <td>  349.734</td> <td>   -2.055</td> <td> 0.040</td> <td>-1404.353</td> <td>  -33.372</td>\n",
              "</tr>\n",
              "<tr>\n",
              "  <th>x23</th> <td> -832.1883</td> <td>  361.522</td> <td>   -2.302</td> <td> 0.021</td> <td>-1540.782</td> <td> -123.595</td>\n",
              "</tr>\n",
              "<tr>\n",
              "  <th>x24</th> <td> -367.5513</td> <td>  438.002</td> <td>   -0.839</td> <td> 0.401</td> <td>-1226.050</td> <td>  490.947</td>\n",
              "</tr>\n",
              "<tr>\n",
              "  <th>x25</th> <td> 2856.4474</td> <td>  369.304</td> <td>    7.735</td> <td> 0.000</td> <td> 2132.600</td> <td> 3580.295</td>\n",
              "</tr>\n",
              "<tr>\n",
              "  <th>x26</th> <td>  841.4215</td> <td>  357.060</td> <td>    2.357</td> <td> 0.018</td> <td>  141.572</td> <td> 1541.270</td>\n",
              "</tr>\n",
              "<tr>\n",
              "  <th>x27</th> <td> 6508.1466</td> <td>  451.376</td> <td>   14.418</td> <td> 0.000</td> <td> 5623.434</td> <td> 7392.859</td>\n",
              "</tr>\n",
              "<tr>\n",
              "  <th>x28</th> <td>-4841.5888</td> <td>  148.351</td> <td>  -32.636</td> <td> 0.000</td> <td>-5132.362</td> <td>-4550.815</td>\n",
              "</tr>\n",
              "<tr>\n",
              "  <th>x29</th> <td>-4035.9207</td> <td>  168.974</td> <td>  -23.885</td> <td> 0.000</td> <td>-4367.115</td> <td>-3704.726</td>\n",
              "</tr>\n",
              "<tr>\n",
              "  <th>x30</th> <td>-5584.7485</td> <td>  166.087</td> <td>  -33.626</td> <td> 0.000</td> <td>-5910.284</td> <td>-5259.213</td>\n",
              "</tr>\n",
              "</table>\n",
              "<table class=\"simpletable\">\n",
              "<tr>\n",
              "  <th>Omnibus:</th>       <td>36684.021</td> <th>  Durbin-Watson:     </th>  <td>   1.991</td>  \n",
              "</tr>\n",
              "<tr>\n",
              "  <th>Prob(Omnibus):</th>  <td> 0.000</td>   <th>  Jarque-Bera (JB):  </th> <td>5529468.972</td>\n",
              "</tr>\n",
              "<tr>\n",
              "  <th>Skew:</th>           <td> 4.990</td>   <th>  Prob(JB):          </th>  <td>    0.00</td>  \n",
              "</tr>\n",
              "<tr>\n",
              "  <th>Kurtosis:</th>       <td>63.788</td>   <th>  Cond. No.          </th>  <td>1.21e+07</td>  \n",
              "</tr>\n",
              "</table><br/><br/>Warnings:<br/>[1] Standard Errors assume that the covariance matrix of the errors is correctly specified.<br/>[2] The condition number is large, 1.21e+07. This might indicate that there are<br/>strong multicollinearity or other numerical problems."
            ],
            "text/plain": [
              "<class 'statsmodels.iolib.summary.Summary'>\n",
              "\"\"\"\n",
              "                            OLS Regression Results                            \n",
              "==============================================================================\n",
              "Dep. Variable:                      y   R-squared:                       0.682\n",
              "Model:                            OLS   Adj. R-squared:                  0.682\n",
              "Method:                 Least Squares   F-statistic:                     2503.\n",
              "Date:                Mon, 18 Jan 2021   Prob (F-statistic):               0.00\n",
              "Time:                        17:41:48   Log-Likelihood:            -3.5420e+05\n",
              "No. Observations:               34971   AIC:                         7.085e+05\n",
              "Df Residuals:                   34941   BIC:                         7.087e+05\n",
              "Df Model:                          30                                         \n",
              "Covariance Type:            nonrobust                                         \n",
              "==============================================================================\n",
              "                 coef    std err          t      P>|t|      [0.025      0.975]\n",
              "------------------------------------------------------------------------------\n",
              "x1             8.0060      0.272     29.456      0.000       7.473       8.539\n",
              "x2            -0.0029      0.000    -27.356      0.000      -0.003      -0.003\n",
              "x3             0.1330      0.043      3.129      0.002       0.050       0.216\n",
              "x4         -1412.8040    531.210     -2.660      0.008   -2453.993    -371.615\n",
              "x5          1549.7229    380.806      4.070      0.000     803.330    2296.116\n",
              "x6         -1926.2565     71.358    -26.994      0.000   -2066.121   -1786.392\n",
              "x7         -4488.2411     81.102    -55.341      0.000   -4647.203   -4329.279\n",
              "x8         -2444.2196    112.624    -21.703      0.000   -2664.965   -2223.474\n",
              "x9          1716.6580    224.828      7.635      0.000    1275.989    2157.328\n",
              "x10        -3095.8859    185.854    -16.658      0.000   -3460.166   -2731.606\n",
              "x11         -846.5347    122.945     -6.885      0.000   -1087.511    -605.559\n",
              "x12        -3830.7400    145.592    -26.312      0.000   -4116.104   -3545.376\n",
              "x13        -1655.3790    561.533     -2.948      0.003   -2756.001    -554.757\n",
              "x14        -1946.4219    151.911    -12.813      0.000   -2244.172   -1648.672\n",
              "x15        -3125.3156    315.329     -9.911      0.000   -3743.370   -2507.261\n",
              "x16        -2350.5326    167.345    -14.046      0.000   -2678.534   -2022.531\n",
              "x17        -2335.8389    104.535    -22.345      0.000   -2540.731   -2130.947\n",
              "x18          184.0600    127.756      1.441      0.150     -66.345     434.465\n",
              "x19        -1553.0026    472.111     -3.289      0.001   -2478.356    -627.649\n",
              "x20         -835.4951    360.161     -2.320      0.020   -1541.423    -129.567\n",
              "x21         -806.1668    350.003     -2.303      0.021   -1492.184    -120.150\n",
              "x22         -718.8630    349.734     -2.055      0.040   -1404.353     -33.372\n",
              "x23         -832.1883    361.522     -2.302      0.021   -1540.782    -123.595\n",
              "x24         -367.5513    438.002     -0.839      0.401   -1226.050     490.947\n",
              "x25         2856.4474    369.304      7.735      0.000    2132.600    3580.295\n",
              "x26          841.4215    357.060      2.357      0.018     141.572    1541.270\n",
              "x27         6508.1466    451.376     14.418      0.000    5623.434    7392.859\n",
              "x28        -4841.5888    148.351    -32.636      0.000   -5132.362   -4550.815\n",
              "x29        -4035.9207    168.974    -23.885      0.000   -4367.115   -3704.726\n",
              "x30        -5584.7485    166.087    -33.626      0.000   -5910.284   -5259.213\n",
              "==============================================================================\n",
              "Omnibus:                    36684.021   Durbin-Watson:                   1.991\n",
              "Prob(Omnibus):                  0.000   Jarque-Bera (JB):          5529468.972\n",
              "Skew:                           4.990   Prob(JB):                         0.00\n",
              "Kurtosis:                      63.788   Cond. No.                     1.21e+07\n",
              "==============================================================================\n",
              "\n",
              "Warnings:\n",
              "[1] Standard Errors assume that the covariance matrix of the errors is correctly specified.\n",
              "[2] The condition number is large, 1.21e+07. This might indicate that there are\n",
              "strong multicollinearity or other numerical problems.\n",
              "\"\"\""
            ]
          },
          "metadata": {
            "tags": []
          },
          "execution_count": 52
        }
      ]
    },
    {
      "cell_type": "markdown",
      "metadata": {
        "id": "yzZfdgyVhvJK"
      },
      "source": [
        "Removing the highest p-value(x4 or fourth column) and rewriting the code."
      ]
    },
    {
      "cell_type": "code",
      "metadata": {
        "colab": {
          "base_uri": "https://localhost:8080/",
          "height": 1000
        },
        "id": "7PzQsilIOZzT",
        "outputId": "38c2d814-00cb-46f5-8235-c36df2a8e436"
      },
      "source": [
        "X_opt = X.values[:,[0,1,2,4,5,6,7,8,9,10,11,12,13,14,15,16,17,18,19,20,21,22,23,24,25,26,27,28,29]]\n",
        "regressor_OLS = sm.OLS(endog = y.values, exog = X_opt).fit()\n",
        "regressor_OLS.summary()"
      ],
      "execution_count": null,
      "outputs": [
        {
          "output_type": "execute_result",
          "data": {
            "text/html": [
              "<table class=\"simpletable\">\n",
              "<caption>OLS Regression Results</caption>\n",
              "<tr>\n",
              "  <th>Dep. Variable:</th>            <td>y</td>        <th>  R-squared:         </th>  <td>   0.682</td>  \n",
              "</tr>\n",
              "<tr>\n",
              "  <th>Model:</th>                   <td>OLS</td>       <th>  Adj. R-squared:    </th>  <td>   0.682</td>  \n",
              "</tr>\n",
              "<tr>\n",
              "  <th>Method:</th>             <td>Least Squares</td>  <th>  F-statistic:       </th>  <td>   2588.</td>  \n",
              "</tr>\n",
              "<tr>\n",
              "  <th>Date:</th>             <td>Mon, 18 Jan 2021</td> <th>  Prob (F-statistic):</th>   <td>  0.00</td>   \n",
              "</tr>\n",
              "<tr>\n",
              "  <th>Time:</th>                 <td>17:41:48</td>     <th>  Log-Likelihood:    </th> <td>-3.5420e+05</td>\n",
              "</tr>\n",
              "<tr>\n",
              "  <th>No. Observations:</th>      <td> 34971</td>      <th>  AIC:               </th>  <td>7.085e+05</td> \n",
              "</tr>\n",
              "<tr>\n",
              "  <th>Df Residuals:</th>          <td> 34942</td>      <th>  BIC:               </th>  <td>7.087e+05</td> \n",
              "</tr>\n",
              "<tr>\n",
              "  <th>Df Model:</th>              <td>    29</td>      <th>                     </th>      <td> </td>     \n",
              "</tr>\n",
              "<tr>\n",
              "  <th>Covariance Type:</th>      <td>nonrobust</td>    <th>                     </th>      <td> </td>     \n",
              "</tr>\n",
              "</table>\n",
              "<table class=\"simpletable\">\n",
              "<tr>\n",
              "   <td></td>      <th>coef</th>     <th>std err</th>      <th>t</th>      <th>P>|t|</th>  <th>[0.025</th>    <th>0.975]</th>  \n",
              "</tr>\n",
              "<tr>\n",
              "  <th>x1</th>  <td>    7.6511</td> <td>    0.237</td> <td>   32.311</td> <td> 0.000</td> <td>    7.187</td> <td>    8.115</td>\n",
              "</tr>\n",
              "<tr>\n",
              "  <th>x2</th>  <td>   -0.0029</td> <td>    0.000</td> <td>  -27.314</td> <td> 0.000</td> <td>   -0.003</td> <td>   -0.003</td>\n",
              "</tr>\n",
              "<tr>\n",
              "  <th>x3</th>  <td>    0.1329</td> <td>    0.043</td> <td>    3.127</td> <td> 0.002</td> <td>    0.050</td> <td>    0.216</td>\n",
              "</tr>\n",
              "<tr>\n",
              "  <th>x4</th>  <td> 2267.1964</td> <td>  268.796</td> <td>    8.435</td> <td> 0.000</td> <td> 1740.348</td> <td> 2794.045</td>\n",
              "</tr>\n",
              "<tr>\n",
              "  <th>x5</th>  <td>-1926.3059</td> <td>   71.364</td> <td>  -26.993</td> <td> 0.000</td> <td>-2066.182</td> <td>-1786.429</td>\n",
              "</tr>\n",
              "<tr>\n",
              "  <th>x6</th>  <td>-4487.9185</td> <td>   81.109</td> <td>  -55.332</td> <td> 0.000</td> <td>-4646.894</td> <td>-4328.943</td>\n",
              "</tr>\n",
              "<tr>\n",
              "  <th>x7</th>  <td>-2444.3010</td> <td>  112.633</td> <td>  -21.701</td> <td> 0.000</td> <td>-2665.066</td> <td>-2223.536</td>\n",
              "</tr>\n",
              "<tr>\n",
              "  <th>x8</th>  <td> 1720.2505</td> <td>  224.843</td> <td>    7.651</td> <td> 0.000</td> <td> 1279.551</td> <td> 2160.950</td>\n",
              "</tr>\n",
              "<tr>\n",
              "  <th>x9</th>  <td>-3095.0662</td> <td>  185.870</td> <td>  -16.652</td> <td> 0.000</td> <td>-3459.377</td> <td>-2730.755</td>\n",
              "</tr>\n",
              "<tr>\n",
              "  <th>x10</th> <td> -847.7022</td> <td>  122.955</td> <td>   -6.894</td> <td> 0.000</td> <td>-1088.698</td> <td> -606.707</td>\n",
              "</tr>\n",
              "<tr>\n",
              "  <th>x11</th> <td>-3829.6590</td> <td>  145.604</td> <td>  -26.302</td> <td> 0.000</td> <td>-4115.047</td> <td>-3544.271</td>\n",
              "</tr>\n",
              "<tr>\n",
              "  <th>x12</th> <td>-1655.2131</td> <td>  561.581</td> <td>   -2.947</td> <td> 0.003</td> <td>-2755.930</td> <td> -554.496</td>\n",
              "</tr>\n",
              "<tr>\n",
              "  <th>x13</th> <td>-1947.0443</td> <td>  151.924</td> <td>  -12.816</td> <td> 0.000</td> <td>-2244.820</td> <td>-1649.269</td>\n",
              "</tr>\n",
              "<tr>\n",
              "  <th>x14</th> <td>-3126.6844</td> <td>  315.356</td> <td>   -9.915</td> <td> 0.000</td> <td>-3744.791</td> <td>-2508.577</td>\n",
              "</tr>\n",
              "<tr>\n",
              "  <th>x15</th> <td>-2344.4418</td> <td>  167.344</td> <td>  -14.010</td> <td> 0.000</td> <td>-2672.441</td> <td>-2016.442</td>\n",
              "</tr>\n",
              "<tr>\n",
              "  <th>x16</th> <td>-2338.1725</td> <td>  104.540</td> <td>  -22.366</td> <td> 0.000</td> <td>-2543.075</td> <td>-2133.270</td>\n",
              "</tr>\n",
              "<tr>\n",
              "  <th>x17</th> <td>  185.5552</td> <td>  127.765</td> <td>    1.452</td> <td> 0.146</td> <td>  -64.869</td> <td>  435.980</td>\n",
              "</tr>\n",
              "<tr>\n",
              "  <th>x18</th> <td>-1563.7412</td> <td>  472.135</td> <td>   -3.312</td> <td> 0.001</td> <td>-2489.141</td> <td> -638.341</td>\n",
              "</tr>\n",
              "<tr>\n",
              "  <th>x19</th> <td> -841.3139</td> <td>  360.186</td> <td>   -2.336</td> <td> 0.020</td> <td>-1547.290</td> <td> -135.338</td>\n",
              "</tr>\n",
              "<tr>\n",
              "  <th>x20</th> <td> -810.3532</td> <td>  350.030</td> <td>   -2.315</td> <td> 0.021</td> <td>-1496.423</td> <td> -124.284</td>\n",
              "</tr>\n",
              "<tr>\n",
              "  <th>x21</th> <td> -725.9161</td> <td>  349.755</td> <td>   -2.076</td> <td> 0.038</td> <td>-1411.446</td> <td>  -40.386</td>\n",
              "</tr>\n",
              "<tr>\n",
              "  <th>x22</th> <td> -840.5416</td> <td>  361.539</td> <td>   -2.325</td> <td> 0.020</td> <td>-1549.170</td> <td> -131.913</td>\n",
              "</tr>\n",
              "<tr>\n",
              "  <th>x23</th> <td> -381.6632</td> <td>  438.008</td> <td>   -0.871</td> <td> 0.384</td> <td>-1240.173</td> <td>  476.847</td>\n",
              "</tr>\n",
              "<tr>\n",
              "  <th>x24</th> <td> 2849.3499</td> <td>  369.326</td> <td>    7.715</td> <td> 0.000</td> <td> 2125.458</td> <td> 3573.241</td>\n",
              "</tr>\n",
              "<tr>\n",
              "  <th>x25</th> <td>  833.3567</td> <td>  357.078</td> <td>    2.334</td> <td> 0.020</td> <td>  133.472</td> <td> 1533.241</td>\n",
              "</tr>\n",
              "<tr>\n",
              "  <th>x26</th> <td> 6498.4220</td> <td>  451.401</td> <td>   14.396</td> <td> 0.000</td> <td> 5613.662</td> <td> 7383.182</td>\n",
              "</tr>\n",
              "<tr>\n",
              "  <th>x27</th> <td>-4842.1896</td> <td>  148.364</td> <td>  -32.637</td> <td> 0.000</td> <td>-5132.988</td> <td>-4551.391</td>\n",
              "</tr>\n",
              "<tr>\n",
              "  <th>x28</th> <td>-4037.3334</td> <td>  168.988</td> <td>  -23.891</td> <td> 0.000</td> <td>-4368.555</td> <td>-3706.111</td>\n",
              "</tr>\n",
              "<tr>\n",
              "  <th>x29</th> <td>-5585.2455</td> <td>  166.101</td> <td>  -33.626</td> <td> 0.000</td> <td>-5910.809</td> <td>-5259.682</td>\n",
              "</tr>\n",
              "</table>\n",
              "<table class=\"simpletable\">\n",
              "<tr>\n",
              "  <th>Omnibus:</th>       <td>36685.413</td> <th>  Durbin-Watson:     </th>  <td>   1.991</td>  \n",
              "</tr>\n",
              "<tr>\n",
              "  <th>Prob(Omnibus):</th>  <td> 0.000</td>   <th>  Jarque-Bera (JB):  </th> <td>5529360.381</td>\n",
              "</tr>\n",
              "<tr>\n",
              "  <th>Skew:</th>           <td> 4.991</td>   <th>  Prob(JB):          </th>  <td>    0.00</td>  \n",
              "</tr>\n",
              "<tr>\n",
              "  <th>Kurtosis:</th>       <td>63.787</td>   <th>  Cond. No.          </th>  <td>1.21e+07</td>  \n",
              "</tr>\n",
              "</table><br/><br/>Warnings:<br/>[1] Standard Errors assume that the covariance matrix of the errors is correctly specified.<br/>[2] The condition number is large, 1.21e+07. This might indicate that there are<br/>strong multicollinearity or other numerical problems."
            ],
            "text/plain": [
              "<class 'statsmodels.iolib.summary.Summary'>\n",
              "\"\"\"\n",
              "                            OLS Regression Results                            \n",
              "==============================================================================\n",
              "Dep. Variable:                      y   R-squared:                       0.682\n",
              "Model:                            OLS   Adj. R-squared:                  0.682\n",
              "Method:                 Least Squares   F-statistic:                     2588.\n",
              "Date:                Mon, 18 Jan 2021   Prob (F-statistic):               0.00\n",
              "Time:                        17:41:48   Log-Likelihood:            -3.5420e+05\n",
              "No. Observations:               34971   AIC:                         7.085e+05\n",
              "Df Residuals:                   34942   BIC:                         7.087e+05\n",
              "Df Model:                          29                                         \n",
              "Covariance Type:            nonrobust                                         \n",
              "==============================================================================\n",
              "                 coef    std err          t      P>|t|      [0.025      0.975]\n",
              "------------------------------------------------------------------------------\n",
              "x1             7.6511      0.237     32.311      0.000       7.187       8.115\n",
              "x2            -0.0029      0.000    -27.314      0.000      -0.003      -0.003\n",
              "x3             0.1329      0.043      3.127      0.002       0.050       0.216\n",
              "x4          2267.1964    268.796      8.435      0.000    1740.348    2794.045\n",
              "x5         -1926.3059     71.364    -26.993      0.000   -2066.182   -1786.429\n",
              "x6         -4487.9185     81.109    -55.332      0.000   -4646.894   -4328.943\n",
              "x7         -2444.3010    112.633    -21.701      0.000   -2665.066   -2223.536\n",
              "x8          1720.2505    224.843      7.651      0.000    1279.551    2160.950\n",
              "x9         -3095.0662    185.870    -16.652      0.000   -3459.377   -2730.755\n",
              "x10         -847.7022    122.955     -6.894      0.000   -1088.698    -606.707\n",
              "x11        -3829.6590    145.604    -26.302      0.000   -4115.047   -3544.271\n",
              "x12        -1655.2131    561.581     -2.947      0.003   -2755.930    -554.496\n",
              "x13        -1947.0443    151.924    -12.816      0.000   -2244.820   -1649.269\n",
              "x14        -3126.6844    315.356     -9.915      0.000   -3744.791   -2508.577\n",
              "x15        -2344.4418    167.344    -14.010      0.000   -2672.441   -2016.442\n",
              "x16        -2338.1725    104.540    -22.366      0.000   -2543.075   -2133.270\n",
              "x17          185.5552    127.765      1.452      0.146     -64.869     435.980\n",
              "x18        -1563.7412    472.135     -3.312      0.001   -2489.141    -638.341\n",
              "x19         -841.3139    360.186     -2.336      0.020   -1547.290    -135.338\n",
              "x20         -810.3532    350.030     -2.315      0.021   -1496.423    -124.284\n",
              "x21         -725.9161    349.755     -2.076      0.038   -1411.446     -40.386\n",
              "x22         -840.5416    361.539     -2.325      0.020   -1549.170    -131.913\n",
              "x23         -381.6632    438.008     -0.871      0.384   -1240.173     476.847\n",
              "x24         2849.3499    369.326      7.715      0.000    2125.458    3573.241\n",
              "x25          833.3567    357.078      2.334      0.020     133.472    1533.241\n",
              "x26         6498.4220    451.401     14.396      0.000    5613.662    7383.182\n",
              "x27        -4842.1896    148.364    -32.637      0.000   -5132.988   -4551.391\n",
              "x28        -4037.3334    168.988    -23.891      0.000   -4368.555   -3706.111\n",
              "x29        -5585.2455    166.101    -33.626      0.000   -5910.809   -5259.682\n",
              "==============================================================================\n",
              "Omnibus:                    36685.413   Durbin-Watson:                   1.991\n",
              "Prob(Omnibus):                  0.000   Jarque-Bera (JB):          5529360.381\n",
              "Skew:                           4.991   Prob(JB):                         0.00\n",
              "Kurtosis:                      63.787   Cond. No.                     1.21e+07\n",
              "==============================================================================\n",
              "\n",
              "Warnings:\n",
              "[1] Standard Errors assume that the covariance matrix of the errors is correctly specified.\n",
              "[2] The condition number is large, 1.21e+07. This might indicate that there are\n",
              "strong multicollinearity or other numerical problems.\n",
              "\"\"\""
            ]
          },
          "metadata": {
            "tags": []
          },
          "execution_count": 53
        }
      ]
    },
    {
      "cell_type": "markdown",
      "metadata": {
        "id": "eguEs_TRiw_5"
      },
      "source": [
        "\n",
        "Removing the highest p-value(x19 or 20th column) and rewriting the code."
      ]
    },
    {
      "cell_type": "code",
      "metadata": {
        "colab": {
          "base_uri": "https://localhost:8080/",
          "height": 1000
        },
        "id": "zi6AFLVQPH0d",
        "outputId": "f297d5de-4407-409e-c478-b0b9a0c20780"
      },
      "source": [
        "X_opt = X.values[:,[0,1,2,4,5,6,7,8,9,10,11,12,13,14,15,16,17,18,20,21,22,23,24,25,26,27,28,29]]\n",
        "regressor_OLS = sm.OLS(endog = y.values, exog = X_opt).fit()\n",
        "regressor_OLS.summary()"
      ],
      "execution_count": null,
      "outputs": [
        {
          "output_type": "execute_result",
          "data": {
            "text/html": [
              "<table class=\"simpletable\">\n",
              "<caption>OLS Regression Results</caption>\n",
              "<tr>\n",
              "  <th>Dep. Variable:</th>            <td>y</td>        <th>  R-squared:         </th>  <td>   0.682</td>  \n",
              "</tr>\n",
              "<tr>\n",
              "  <th>Model:</th>                   <td>OLS</td>       <th>  Adj. R-squared:    </th>  <td>   0.682</td>  \n",
              "</tr>\n",
              "<tr>\n",
              "  <th>Method:</th>             <td>Least Squares</td>  <th>  F-statistic:       </th>  <td>   2680.</td>  \n",
              "</tr>\n",
              "<tr>\n",
              "  <th>Date:</th>             <td>Mon, 18 Jan 2021</td> <th>  Prob (F-statistic):</th>   <td>  0.00</td>   \n",
              "</tr>\n",
              "<tr>\n",
              "  <th>Time:</th>                 <td>17:41:48</td>     <th>  Log-Likelihood:    </th> <td>-3.5421e+05</td>\n",
              "</tr>\n",
              "<tr>\n",
              "  <th>No. Observations:</th>      <td> 34971</td>      <th>  AIC:               </th>  <td>7.085e+05</td> \n",
              "</tr>\n",
              "<tr>\n",
              "  <th>Df Residuals:</th>          <td> 34943</td>      <th>  BIC:               </th>  <td>7.087e+05</td> \n",
              "</tr>\n",
              "<tr>\n",
              "  <th>Df Model:</th>              <td>    28</td>      <th>                     </th>      <td> </td>     \n",
              "</tr>\n",
              "<tr>\n",
              "  <th>Covariance Type:</th>      <td>nonrobust</td>    <th>                     </th>      <td> </td>     \n",
              "</tr>\n",
              "</table>\n",
              "<table class=\"simpletable\">\n",
              "<tr>\n",
              "   <td></td>      <th>coef</th>     <th>std err</th>      <th>t</th>      <th>P>|t|</th>  <th>[0.025</th>    <th>0.975]</th>  \n",
              "</tr>\n",
              "<tr>\n",
              "  <th>x1</th>  <td>    7.2746</td> <td>    0.173</td> <td>   41.929</td> <td> 0.000</td> <td>    6.935</td> <td>    7.615</td>\n",
              "</tr>\n",
              "<tr>\n",
              "  <th>x2</th>  <td>   -0.0029</td> <td>    0.000</td> <td>  -27.329</td> <td> 0.000</td> <td>   -0.003</td> <td>   -0.003</td>\n",
              "</tr>\n",
              "<tr>\n",
              "  <th>x3</th>  <td>    0.1307</td> <td>    0.043</td> <td>    3.075</td> <td> 0.002</td> <td>    0.047</td> <td>    0.214</td>\n",
              "</tr>\n",
              "<tr>\n",
              "  <th>x4</th>  <td> 2272.9778</td> <td>  268.802</td> <td>    8.456</td> <td> 0.000</td> <td> 1746.118</td> <td> 2799.838</td>\n",
              "</tr>\n",
              "<tr>\n",
              "  <th>x5</th>  <td>-1928.7570</td> <td>   71.361</td> <td>  -27.028</td> <td> 0.000</td> <td>-2068.627</td> <td>-1788.887</td>\n",
              "</tr>\n",
              "<tr>\n",
              "  <th>x6</th>  <td>-4495.4195</td> <td>   81.050</td> <td>  -55.464</td> <td> 0.000</td> <td>-4654.281</td> <td>-4336.558</td>\n",
              "</tr>\n",
              "<tr>\n",
              "  <th>x7</th>  <td>-2445.4150</td> <td>  112.639</td> <td>  -21.710</td> <td> 0.000</td> <td>-2666.192</td> <td>-2224.638</td>\n",
              "</tr>\n",
              "<tr>\n",
              "  <th>x8</th>  <td> 1713.9934</td> <td>  224.842</td> <td>    7.623</td> <td> 0.000</td> <td> 1273.297</td> <td> 2154.690</td>\n",
              "</tr>\n",
              "<tr>\n",
              "  <th>x9</th>  <td>-3094.7227</td> <td>  185.882</td> <td>  -16.649</td> <td> 0.000</td> <td>-3459.057</td> <td>-2730.389</td>\n",
              "</tr>\n",
              "<tr>\n",
              "  <th>x10</th> <td> -852.8311</td> <td>  122.943</td> <td>   -6.937</td> <td> 0.000</td> <td>-1093.803</td> <td> -611.859</td>\n",
              "</tr>\n",
              "<tr>\n",
              "  <th>x11</th> <td>-3833.0641</td> <td>  145.606</td> <td>  -26.325</td> <td> 0.000</td> <td>-4118.456</td> <td>-3547.672</td>\n",
              "</tr>\n",
              "<tr>\n",
              "  <th>x12</th> <td>-1662.3421</td> <td>  561.609</td> <td>   -2.960</td> <td> 0.003</td> <td>-2763.113</td> <td> -561.571</td>\n",
              "</tr>\n",
              "<tr>\n",
              "  <th>x13</th> <td>-1948.8471</td> <td>  151.932</td> <td>  -12.827</td> <td> 0.000</td> <td>-2246.638</td> <td>-1651.056</td>\n",
              "</tr>\n",
              "<tr>\n",
              "  <th>x14</th> <td>-3121.9223</td> <td>  315.369</td> <td>   -9.899</td> <td> 0.000</td> <td>-3740.056</td> <td>-2503.789</td>\n",
              "</tr>\n",
              "<tr>\n",
              "  <th>x15</th> <td>-2348.3475</td> <td>  167.346</td> <td>  -14.033</td> <td> 0.000</td> <td>-2676.352</td> <td>-2020.344</td>\n",
              "</tr>\n",
              "<tr>\n",
              "  <th>x16</th> <td>-2341.5062</td> <td>  104.537</td> <td>  -22.399</td> <td> 0.000</td> <td>-2546.403</td> <td>-2136.610</td>\n",
              "</tr>\n",
              "<tr>\n",
              "  <th>x17</th> <td>  181.2853</td> <td>  127.761</td> <td>    1.419</td> <td> 0.156</td> <td>  -69.129</td> <td>  431.700</td>\n",
              "</tr>\n",
              "<tr>\n",
              "  <th>x18</th> <td>-1554.8737</td> <td>  472.150</td> <td>   -3.293</td> <td> 0.001</td> <td>-2480.303</td> <td> -629.445</td>\n",
              "</tr>\n",
              "<tr>\n",
              "  <th>x19</th> <td>  -50.6847</td> <td>  129.411</td> <td>   -0.392</td> <td> 0.695</td> <td> -304.335</td> <td>  202.965</td>\n",
              "</tr>\n",
              "<tr>\n",
              "  <th>x20</th> <td>   34.1623</td> <td>  128.221</td> <td>    0.266</td> <td> 0.790</td> <td> -217.154</td> <td>  285.479</td>\n",
              "</tr>\n",
              "<tr>\n",
              "  <th>x21</th> <td>  -78.4431</td> <td>  155.757</td> <td>   -0.504</td> <td> 0.615</td> <td> -383.732</td> <td>  226.846</td>\n",
              "</tr>\n",
              "<tr>\n",
              "  <th>x22</th> <td>  382.2488</td> <td>  291.378</td> <td>    1.312</td> <td> 0.190</td> <td> -188.862</td> <td>  953.360</td>\n",
              "</tr>\n",
              "<tr>\n",
              "  <th>x23</th> <td> 3610.6990</td> <td>  173.671</td> <td>   20.790</td> <td> 0.000</td> <td> 3270.298</td> <td> 3951.100</td>\n",
              "</tr>\n",
              "<tr>\n",
              "  <th>x24</th> <td> 1593.5675</td> <td>  146.904</td> <td>   10.848</td> <td> 0.000</td> <td> 1305.631</td> <td> 1881.504</td>\n",
              "</tr>\n",
              "<tr>\n",
              "  <th>x25</th> <td> 7263.9871</td> <td>  310.404</td> <td>   23.402</td> <td> 0.000</td> <td> 6655.585</td> <td> 7872.389</td>\n",
              "</tr>\n",
              "<tr>\n",
              "  <th>x26</th> <td>-4839.0848</td> <td>  148.368</td> <td>  -32.615</td> <td> 0.000</td> <td>-5129.890</td> <td>-4548.279</td>\n",
              "</tr>\n",
              "<tr>\n",
              "  <th>x27</th> <td>-4036.5794</td> <td>  168.999</td> <td>  -23.885</td> <td> 0.000</td> <td>-4367.822</td> <td>-3705.337</td>\n",
              "</tr>\n",
              "<tr>\n",
              "  <th>x28</th> <td>-5591.4652</td> <td>  166.090</td> <td>  -33.665</td> <td> 0.000</td> <td>-5917.007</td> <td>-5265.923</td>\n",
              "</tr>\n",
              "</table>\n",
              "<table class=\"simpletable\">\n",
              "<tr>\n",
              "  <th>Omnibus:</th>       <td>36684.447</td> <th>  Durbin-Watson:     </th>  <td>   1.991</td>  \n",
              "</tr>\n",
              "<tr>\n",
              "  <th>Prob(Omnibus):</th>  <td> 0.000</td>   <th>  Jarque-Bera (JB):  </th> <td>5527446.537</td>\n",
              "</tr>\n",
              "<tr>\n",
              "  <th>Skew:</th>           <td> 4.991</td>   <th>  Prob(JB):          </th>  <td>    0.00</td>  \n",
              "</tr>\n",
              "<tr>\n",
              "  <th>Kurtosis:</th>       <td>63.776</td>   <th>  Cond. No.          </th>  <td>6.88e+06</td>  \n",
              "</tr>\n",
              "</table><br/><br/>Warnings:<br/>[1] Standard Errors assume that the covariance matrix of the errors is correctly specified.<br/>[2] The condition number is large, 6.88e+06. This might indicate that there are<br/>strong multicollinearity or other numerical problems."
            ],
            "text/plain": [
              "<class 'statsmodels.iolib.summary.Summary'>\n",
              "\"\"\"\n",
              "                            OLS Regression Results                            \n",
              "==============================================================================\n",
              "Dep. Variable:                      y   R-squared:                       0.682\n",
              "Model:                            OLS   Adj. R-squared:                  0.682\n",
              "Method:                 Least Squares   F-statistic:                     2680.\n",
              "Date:                Mon, 18 Jan 2021   Prob (F-statistic):               0.00\n",
              "Time:                        17:41:48   Log-Likelihood:            -3.5421e+05\n",
              "No. Observations:               34971   AIC:                         7.085e+05\n",
              "Df Residuals:                   34943   BIC:                         7.087e+05\n",
              "Df Model:                          28                                         \n",
              "Covariance Type:            nonrobust                                         \n",
              "==============================================================================\n",
              "                 coef    std err          t      P>|t|      [0.025      0.975]\n",
              "------------------------------------------------------------------------------\n",
              "x1             7.2746      0.173     41.929      0.000       6.935       7.615\n",
              "x2            -0.0029      0.000    -27.329      0.000      -0.003      -0.003\n",
              "x3             0.1307      0.043      3.075      0.002       0.047       0.214\n",
              "x4          2272.9778    268.802      8.456      0.000    1746.118    2799.838\n",
              "x5         -1928.7570     71.361    -27.028      0.000   -2068.627   -1788.887\n",
              "x6         -4495.4195     81.050    -55.464      0.000   -4654.281   -4336.558\n",
              "x7         -2445.4150    112.639    -21.710      0.000   -2666.192   -2224.638\n",
              "x8          1713.9934    224.842      7.623      0.000    1273.297    2154.690\n",
              "x9         -3094.7227    185.882    -16.649      0.000   -3459.057   -2730.389\n",
              "x10         -852.8311    122.943     -6.937      0.000   -1093.803    -611.859\n",
              "x11        -3833.0641    145.606    -26.325      0.000   -4118.456   -3547.672\n",
              "x12        -1662.3421    561.609     -2.960      0.003   -2763.113    -561.571\n",
              "x13        -1948.8471    151.932    -12.827      0.000   -2246.638   -1651.056\n",
              "x14        -3121.9223    315.369     -9.899      0.000   -3740.056   -2503.789\n",
              "x15        -2348.3475    167.346    -14.033      0.000   -2676.352   -2020.344\n",
              "x16        -2341.5062    104.537    -22.399      0.000   -2546.403   -2136.610\n",
              "x17          181.2853    127.761      1.419      0.156     -69.129     431.700\n",
              "x18        -1554.8737    472.150     -3.293      0.001   -2480.303    -629.445\n",
              "x19          -50.6847    129.411     -0.392      0.695    -304.335     202.965\n",
              "x20           34.1623    128.221      0.266      0.790    -217.154     285.479\n",
              "x21          -78.4431    155.757     -0.504      0.615    -383.732     226.846\n",
              "x22          382.2488    291.378      1.312      0.190    -188.862     953.360\n",
              "x23         3610.6990    173.671     20.790      0.000    3270.298    3951.100\n",
              "x24         1593.5675    146.904     10.848      0.000    1305.631    1881.504\n",
              "x25         7263.9871    310.404     23.402      0.000    6655.585    7872.389\n",
              "x26        -4839.0848    148.368    -32.615      0.000   -5129.890   -4548.279\n",
              "x27        -4036.5794    168.999    -23.885      0.000   -4367.822   -3705.337\n",
              "x28        -5591.4652    166.090    -33.665      0.000   -5917.007   -5265.923\n",
              "==============================================================================\n",
              "Omnibus:                    36684.447   Durbin-Watson:                   1.991\n",
              "Prob(Omnibus):                  0.000   Jarque-Bera (JB):          5527446.537\n",
              "Skew:                           4.991   Prob(JB):                         0.00\n",
              "Kurtosis:                      63.776   Cond. No.                     6.88e+06\n",
              "==============================================================================\n",
              "\n",
              "Warnings:\n",
              "[1] Standard Errors assume that the covariance matrix of the errors is correctly specified.\n",
              "[2] The condition number is large, 6.88e+06. This might indicate that there are\n",
              "strong multicollinearity or other numerical problems.\n",
              "\"\"\""
            ]
          },
          "metadata": {
            "tags": []
          },
          "execution_count": 54
        }
      ]
    },
    {
      "cell_type": "markdown",
      "metadata": {
        "id": "fUfYpNWTjTQz"
      },
      "source": [
        "New Adj. r-squared value : 81.9%\n",
        "We can see our accuracy does not change a little bit after removing two columns  thus we will keep all the previous columns. Thus the final_df is the relevant dataframe to train model and also random forest regressor give good result ,so i will use randomforest regressor"
      ]
    },
    {
      "cell_type": "markdown",
      "metadata": {
        "id": "GK39Y5pNydGS"
      },
      "source": [
        "## **Final Result**\n",
        "\n",
        "> From all analysis i understand that final_df is the relevant dataframe to train model and also random forest regressor give good result ,so i will use random forest regressor.\n",
        "\n"
      ]
    },
    {
      "cell_type": "code",
      "metadata": {
        "colab": {
          "base_uri": "https://localhost:8080/"
        },
        "id": "ynKc74bQPSoy",
        "outputId": "910763f5-7086-4eee-a5df-3a6daa0cf35c"
      },
      "source": [
        "rf_reg = RandomForestRegressor()\n",
        "rf_reg.fit(X_train, y_train)\n",
        "y_pred= rf_reg.predict(X_test)\n",
        "\n",
        "print(\"\\t\\tError Table\")\n",
        "print('Mean Absolute Error      : ', mean_absolute_error(y_test, y_pred))\n",
        "print('Mean Squared  Error      : ', mean_squared_error(y_test, y_pred))\n",
        "print('Root Mean Squared  Error : ', np.sqrt(mean_squared_error(y_test, y_pred)))\n",
        "print('R Squared           : ', r2_score(y_test, y_pred))"
      ],
      "execution_count": null,
      "outputs": [
        {
          "output_type": "stream",
          "text": [
            "C:\\Users\\Code_love_r\\Anaconda3\\lib\\site-packages\\ipykernel_launcher.py:2: DataConversionWarning: A column-vector y was passed when a 1d array was expected. Please change the shape of y to (n_samples,), for example using ravel().\n",
            "  \n"
          ],
          "name": "stderr"
        },
        {
          "output_type": "stream",
          "text": [
            "\t\tError Table\n",
            "Mean Absolute Error      :  1335.3914352215609\n",
            "Mean Squared  Error      :  6324732.219475472\n",
            "Root Mean Squared  Error :  2514.902029796682\n",
            "R Squared           :  0.896030967397477\n"
          ],
          "name": "stdout"
        }
      ]
    },
    {
      "cell_type": "markdown",
      "metadata": {
        "id": "xqZfhXsepCzG"
      },
      "source": [
        "We get an R2 score of 0.90 with Random forest regressor"
      ]
    },
    {
      "cell_type": "markdown",
      "metadata": {
        "id": "KeSIxXS26VPZ"
      },
      "source": [
        "## **Car price prediction for single user Input Data**\n",
        "\n",
        "> Here we can predict the price of a single car to be sold using above trained model, by taking the features of that car as an input.\n",
        "\n",
        "\n",
        "> By making few changes in code of below cells we can make predictions of multiple cars at once. But for now, I predict the price of a single car at a time for  user input data.\n",
        "\n",
        "\n",
        "\n"
      ]
    },
    {
      "cell_type": "code",
      "metadata": {
        "id": "1VYEdHXC5hvw"
      },
      "source": [
        "def pre_processing_usertestcase(test_df):   #preprocess the test data\n",
        "  test_df.dropna(inplace=True)\n",
        "  duplicate_rows_testdf = test_df[test_df.duplicated()]\n",
        "  duplicate_rows_testdf.shape\n",
        "  test_df = test_df[~test_df.duplicated()]\n",
        "  return test_df\n",
        "\n",
        "def remove_outlier(test_df):    #remove all outliers, used when multipe data or dataframe withe multiple rows.\n",
        "  Q1 = test_df.quantile(0.25)\n",
        "  Q3 = test_df.quantile(0.75)\n",
        "  IQR = Q3 - Q1\n",
        "  test_df = test_df[~((test_df < (Q1-1.5 * IQR)) |(test_df > (Q3 + 1.5 * IQR))).any(axis=1)]\n",
        "  return test_df\n",
        "\n",
        "def drop(test_df):\n",
        "  test_df.drop([\"make\"],axis=1,inplace=True)\n",
        "  test_df.drop([\"model\"],axis=1,inplace=True)\n",
        "  return test_df\n",
        "\n",
        "def handle_categorical(test_df):           #this  function will handle all categorical features\n",
        "  fuel_type_val= 'fuel_type' + '_' + test_df['fuel_type'][0]\n",
        "  if fuel_type_val in test_df.columns:\n",
        "    test_df[fuel_type_val] = 1             #replace 0 with 1 where the condition satifies or category meet\n",
        "\n",
        "  condition_val= 'condition' + '_' + test_df['condition'][0]\n",
        "  if condition_val in test_df.columns:\n",
        "    test_df[condition_val] = 1\n",
        "\n",
        "  transmission_val= 'transmission' + '_' + test_df['transmission'][0]\n",
        "  if transmission_val in test_df.columns:\n",
        "    test_df[transmission_val] = 1\n",
        "\n",
        "  segment_val= 'segment' + '_' + test_df['segment'][0]\n",
        "  if segment_val in test_df.columns:\n",
        "    test_df[segment_val] = 1\n",
        "\n",
        "  color_val= 'color' + '_' + test_df['color'][0]\n",
        "  if color_val in test_df.columns:\n",
        "    test_df[color_val] = 1\n",
        "\n",
        "  drive_unit_val= 'drive_unit' + '_' + test_df['drive_unit'][0]\n",
        "  if drive_unit_val in test_df.columns:\n",
        "    test_df[drive_unit_val] = 1\n",
        "  test_df.drop([\"condition\",\"fuel_type\",\"transmission\",\"color\",\"segment\",\"drive_unit\"],axis=1,inplace=True)\n",
        "  \n",
        "  return test_df\n",
        "  \n"
      ],
      "execution_count": null,
      "outputs": []
    },
    {
      "cell_type": "markdown",
      "metadata": {
        "id": "5bgeVcr78y1s"
      },
      "source": [
        "Taking all the necessary details of a car as an input used for price prediction. "
      ]
    },
    {
      "cell_type": "code",
      "metadata": {
        "colab": {
          "base_uri": "https://localhost:8080/"
        },
        "id": "mDZU40PXZmM0",
        "outputId": "73fa6c89-6c80-45da-e72e-3f1fd5389e11"
      },
      "source": [
        "print(\"Enter the car company brand\")\n",
        "make=input()\n",
        "print(\"Enter the car model\")\n",
        "model=input()\n",
        "print(\"Enter the year\")\n",
        "year=int(input())\n",
        "print(\"Enter the condition of car\")\n",
        "condition=input()\n",
        "print(\"Enter the mileage in kilometers\")\n",
        "mileage=int(input())\n",
        "print(\"Enter the fuel type for car\")\n",
        "fuel_type=input()\n",
        "print(\"Enter volume of car\")\n",
        "volume = int(input())\n",
        "print(\"Enter colour of car\")\n",
        "color=input()\n",
        "print(\"Enter transmision of car, mechanics or auto\")\n",
        "transmission=input()\n",
        "print(\"Enter drive unit type\")\n",
        "drive_unit=input()\n",
        "print(\"Enter segment type\")\n",
        "segment=input()\n"
      ],
      "execution_count": null,
      "outputs": [
        {
          "output_type": "stream",
          "text": [
            "Enter the car company brand\n",
            "Ford\n",
            "Enter the car model\n",
            "fusion\n",
            "Enter the year\n",
            "2008\n",
            "Enter the condition of car\n",
            "with_mileage\n",
            "Enter the mileage in kilometers\n",
            "200000\n",
            "Enter the fuel type for car\n",
            "petrol\n",
            "Enter volume of car\n",
            "20000\n",
            "Enter colour of car\n",
            "black\n",
            "Enter transmision of car, mechanics or auto\n",
            "auto\n",
            "Enter drive unit type\n",
            "front-wheel drive\t\n",
            "Enter segment type\n",
            "A\n"
          ],
          "name": "stdout"
        }
      ]
    },
    {
      "cell_type": "markdown",
      "metadata": {
        "id": "Q8xvemnc9mDK"
      },
      "source": [
        "converting input data taken in the form of proper dataframe format after all preprocessing and then predict using trained modelac "
      ]
    },
    {
      "cell_type": "code",
      "metadata": {
        "colab": {
          "base_uri": "https://localhost:8080/"
        },
        "id": "Rr8H3rrsdQwX",
        "outputId": "9db96eb2-aa31-4eeb-d2ec-60d2368c5892"
      },
      "source": [
        "test_data ={'make':[make],'model':[model],'year':[year],'condition':[condition],'mileage(kilometers)':[mileage],'fuel_type':[fuel_type],'volume(cm3)':[volume],'color':[color],'transmission':[transmission],'drive_unit':[drive_unit],'segment':[segment]}\n",
        "test_df = pd.DataFrame(test_data) \n",
        "\n",
        "#creating new dataframe for categorical feature and assuming all of them as 0 and replace it with 1 when handle categorical data through function calling. \n",
        "new_df = pd.DataFrame(np.zeros(shape=(1,len(X.columns[3:]))).astype(int),columns=(X.columns[3:])) \n",
        "\n",
        "#concat both data frames \n",
        "test_df = pd.concat([test_df,new_df],axis=1) \n",
        "\n",
        "#Comment below two lines of code because i taken a user input data for a single car price prediction. You may uncomment it when deal with more data.\n",
        "# test_df = pre_processing_usertestcase(test_df)            \n",
        "# test_df = remove_outlier(test_df)\n",
        "\n",
        "test_df = drop(test_df)                #to drop unnecessary column\n",
        "test_df = handle_categorical(test_df)  #for encoding of categorical variable\n",
        "\n",
        "#make prediction using final data\n",
        "y_pred= model1.predict(test_df)\n",
        "\n",
        "print(\"Predicted price of a car is\",y_pred[0],\"USD\")"
      ],
      "execution_count": null,
      "outputs": [
        {
          "output_type": "stream",
          "text": [
            "Predicted price of a car is 11457.96 USD\n"
          ],
          "name": "stdout"
        }
      ]
    },
    {
      "cell_type": "markdown",
      "metadata": {
        "id": "8Plzq-ublCaW"
      },
      "source": [
        "As the model predict some price in each case, on the basis of features."
      ]
    },
    {
      "cell_type": "code",
      "metadata": {
        "id": "2rHQbnf622tf",
        "outputId": "0969bd20-e39c-442a-e2d6-99a482c3e617"
      },
      "source": [
        "model"
      ],
      "execution_count": null,
      "outputs": [
        {
          "output_type": "execute_result",
          "data": {
            "text/plain": [
              "'fusion'"
            ]
          },
          "metadata": {
            "tags": []
          },
          "execution_count": 66
        }
      ]
    },
    {
      "cell_type": "code",
      "metadata": {
        "id": "QF4R7JCzXVa3"
      },
      "source": [
        ""
      ],
      "execution_count": null,
      "outputs": []
    }
  ]
}