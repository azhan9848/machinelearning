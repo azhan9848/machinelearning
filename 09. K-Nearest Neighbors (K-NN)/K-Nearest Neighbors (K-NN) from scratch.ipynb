{
 "cells": [
  {
   "cell_type": "markdown",
   "id": "c989a002-cf6b-42a2-82e0-fe420d1510ae",
   "metadata": {},
   "source": [
    "### Custom KNN"
   ]
  },
  {
   "cell_type": "code",
   "execution_count": 1,
   "id": "8faeca54-15c9-460a-9057-075f98497d81",
   "metadata": {},
   "outputs": [],
   "source": [
    "import numpy as np\n",
    "import pandas as pd\n",
    "import warnings\n",
    "warnings.filterwarnings('ignore')\n",
    "\n",
    "dataset = pd.read_csv(\"Social_Network_Ads.csv\")\n",
    "\n",
    "X = dataset.iloc[:,[2,3]].values\n",
    "y = dataset.iloc[:,4].values"
   ]
  },
  {
   "cell_type": "code",
   "execution_count": 2,
   "id": "eb6116e1-4f64-43fb-b35a-f725fdec58d7",
   "metadata": {},
   "outputs": [],
   "source": [
    "class CustomKNN:\n",
    "    def __init__(self,n_neighbours=5):\n",
    "        self.n_neighbours = n_neighbours\n",
    "    def fit(self,X,y):\n",
    "        self._X = X.astype(np.int64)\n",
    "        self._y = y\n",
    "    def predict_point(self,point):\n",
    "        list_dist=[]\n",
    "        for x_point,y_point in zip(self._X,self._y):\n",
    "            dist_point = ((point - x_point)**2).sum()\n",
    "            list_dist.append([dist_point,y_point])\n",
    "        sorted_dist = sorted(list_dist)\n",
    "        top_k = sorted_dist[:self.n_neighbours]\n",
    "        items, counts = np.unique(np.array(top_k)[:,1], return_counts=True)\n",
    "        ans = items[np.argmax(counts)]\n",
    "        return ans\n",
    "    def predict(self,X):\n",
    "        results = []\n",
    "        for point in X:\n",
    "            results.append(self.predict_point(point))\n",
    "        return np.array(results, dtype=int)\n",
    "    def score(self,X,y):\n",
    "        return sum(self.predict(X) == y)/ len(y)"
   ]
  },
  {
   "cell_type": "code",
   "execution_count": 3,
   "id": "37030029-1fa8-4bbc-b305-8c374f018a1b",
   "metadata": {},
   "outputs": [],
   "source": [
    "model = CustomKNN()"
   ]
  },
  {
   "cell_type": "code",
   "execution_count": 4,
   "id": "cbfe2c2f-e775-4115-b526-b34576174668",
   "metadata": {},
   "outputs": [],
   "source": [
    "model.fit(X[10:], y[10:])"
   ]
  },
  {
   "cell_type": "code",
   "execution_count": 5,
   "id": "49ecd53d-c7b5-4bf9-baea-dcc7609c0d71",
   "metadata": {},
   "outputs": [
    {
     "data": {
      "text/plain": [
       "array([0, 0, 0, 0, 0, 0, 0, 1, 1, 0])"
      ]
     },
     "execution_count": 5,
     "metadata": {},
     "output_type": "execute_result"
    }
   ],
   "source": [
    "model.predict(X[:10])"
   ]
  },
  {
   "cell_type": "code",
   "execution_count": 6,
   "id": "524a5e72-bf16-4433-b546-0d1ab85ca9a6",
   "metadata": {},
   "outputs": [
    {
     "data": {
      "text/plain": [
       "array([0, 0, 0, 0, 0, 0, 0, 1, 0, 0], dtype=int64)"
      ]
     },
     "execution_count": 6,
     "metadata": {},
     "output_type": "execute_result"
    }
   ],
   "source": [
    "y[:10]"
   ]
  },
  {
   "cell_type": "code",
   "execution_count": 7,
   "id": "866b9053-3371-48d7-8f42-a1078f79e7ff",
   "metadata": {},
   "outputs": [
    {
     "name": "stdout",
     "output_type": "stream",
     "text": [
      "Accuracy of the model is 90.0 %\n"
     ]
    }
   ],
   "source": [
    "accuracy = model.score(X[:10],y[:10])\n",
    "print('Accuracy of the model is',accuracy*100,'%')"
   ]
  }
 ],
 "metadata": {
  "kernelspec": {
   "display_name": "Python 3",
   "language": "python",
   "name": "python3"
  },
  "language_info": {
   "codemirror_mode": {
    "name": "ipython",
    "version": 3
   },
   "file_extension": ".py",
   "mimetype": "text/x-python",
   "name": "python",
   "nbconvert_exporter": "python",
   "pygments_lexer": "ipython3",
   "version": "3.7.0"
  }
 },
 "nbformat": 4,
 "nbformat_minor": 5
}
